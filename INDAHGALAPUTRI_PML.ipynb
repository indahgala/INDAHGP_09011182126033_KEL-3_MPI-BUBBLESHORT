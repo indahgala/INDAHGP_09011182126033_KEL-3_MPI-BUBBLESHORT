{
  "nbformat": 4,
  "nbformat_minor": 0,
  "metadata": {
    "colab": {
      "provenance": [],
      "toc_visible": true,
      "authorship_tag": "ABX9TyOiPpb2T2KS1ypseHNvVSFX",
      "include_colab_link": true
    },
    "kernelspec": {
      "name": "python3",
      "display_name": "Python 3"
    },
    "language_info": {
      "name": "python"
    }
  },
  "cells": [
    {
      "cell_type": "markdown",
      "metadata": {
        "id": "view-in-github",
        "colab_type": "text"
      },
      "source": [
        "<a href=\"https://colab.research.google.com/github/indahgala/INDAHGP_09011182126033_KEL-3_MPI-BUBBLESHORT/blob/main/INDAHGALAPUTRI_PML.ipynb\" target=\"_parent\"><img src=\"https://colab.research.google.com/assets/colab-badge.svg\" alt=\"Open In Colab\"/></a>"
      ]
    },
    {
      "cell_type": "markdown",
      "source": [
        "## **PREDIKSI PEMBELI ASURANSI MOBIL**"
      ],
      "metadata": {
        "id": "um3_Oh5oTcoX"
      }
    },
    {
      "cell_type": "markdown",
      "source": [
        "  **NAMA : INDAH GALA PUTRI<br>NIM  : 09011182126033<br>KELAS : SK 6 A**\n",
        "\n",
        "\n",
        "  pada projek ini saya memilih topik supervised learning diamana saya akan mealakukan prediksi dari pelanggan yang dihubungi untuk mengikuti kampanye yang diselenggarakan oleh bank di Amerika Selatan, apakah mereka akan membeli asuransi mobil atau tidak. adapun pada projek ini saya menggunakan dataset Car Insurance Cold Calls. dataset ini merupakan data dari salah satu bank di Amerika Serikat. dimana dataset ini berisi tentang informasi klien seperti usia, pekerjaan, dll. serta informasi yang lebih spesifik tentang kampanye penjualan asuransi saat ini seperti communication, last contact day dan kampanye sebelumnya seperti previous attempts, outcome. kemudian model yang saya gunakan untuk melakukan prediksi adalah Logistic Regression."
      ],
      "metadata": {
        "id": "aYsPv-poTlCd"
      }
    },
    {
      "cell_type": "code",
      "execution_count": null,
      "metadata": {
        "colab": {
          "base_uri": "https://localhost:8080/"
        },
        "id": "ql5hhSMaTaPm",
        "outputId": "dfe1f7df-7271-443f-d908-5e0fa35f4e67"
      },
      "outputs": [
        {
          "output_type": "stream",
          "name": "stdout",
          "text": [
            "Mounted at /content/drive\n"
          ]
        }
      ],
      "source": [
        "from google.colab import drive\n",
        "drive.mount('/content/drive', force_remount=True)"
      ]
    },
    {
      "cell_type": "code",
      "source": [
        "import pandas as pd\n",
        "import numpy as np\n",
        "import matplotlib.pyplot as plt\n",
        "import seaborn as sns"
      ],
      "metadata": {
        "id": "7I9eGFmkToeb"
      },
      "execution_count": null,
      "outputs": []
    },
    {
      "cell_type": "code",
      "source": [
        "df = pd.read_csv('/content/drive/MyDrive/indahPML/car_train.csv')\n",
        "df.head()"
      ],
      "metadata": {
        "colab": {
          "base_uri": "https://localhost:8080/",
          "height": 226
        },
        "id": "gzTEVGcETog8",
        "outputId": "05c38efa-cce1-496c-b295-4edd578fb06d"
      },
      "execution_count": null,
      "outputs": [
        {
          "output_type": "execute_result",
          "data": {
            "text/plain": [
              "   Id  Age          Job  Marital Education  Default  Balance  HHInsurance  \\\n",
              "0   1   32   management   single  tertiary        0     1218            1   \n",
              "1   2   32  blue-collar  married   primary        0     1156            1   \n",
              "2   3   29   management   single  tertiary        0      637            1   \n",
              "3   4   25      student   single   primary        0      373            1   \n",
              "4   5   30   management  married  tertiary        0     2694            0   \n",
              "\n",
              "   CarLoan Communication  LastContactDay LastContactMonth  NoOfContacts  \\\n",
              "0        0     telephone              28              jan             2   \n",
              "1        0           NaN              26              may             5   \n",
              "2        0      cellular               3              jun             1   \n",
              "3        0      cellular              11              may             2   \n",
              "4        0      cellular               3              jun             1   \n",
              "\n",
              "   DaysPassed  PrevAttempts  Outcome CallStart   CallEnd  CarInsurance  \n",
              "0          -1             0      NaN  13:45:20  13:46:30             0  \n",
              "1          -1             0      NaN  14:49:03  14:52:08             0  \n",
              "2         119             1  failure  16:30:24  16:36:04             1  \n",
              "3          -1             0      NaN  12:06:43  12:20:22             1  \n",
              "4          -1             0      NaN  14:35:44  14:38:56             0  "
            ],
            "text/html": [
              "\n",
              "  <div id=\"df-7bc60ca6-8dca-4a47-ad8a-761f32e4cc2b\" class=\"colab-df-container\">\n",
              "    <div>\n",
              "<style scoped>\n",
              "    .dataframe tbody tr th:only-of-type {\n",
              "        vertical-align: middle;\n",
              "    }\n",
              "\n",
              "    .dataframe tbody tr th {\n",
              "        vertical-align: top;\n",
              "    }\n",
              "\n",
              "    .dataframe thead th {\n",
              "        text-align: right;\n",
              "    }\n",
              "</style>\n",
              "<table border=\"1\" class=\"dataframe\">\n",
              "  <thead>\n",
              "    <tr style=\"text-align: right;\">\n",
              "      <th></th>\n",
              "      <th>Id</th>\n",
              "      <th>Age</th>\n",
              "      <th>Job</th>\n",
              "      <th>Marital</th>\n",
              "      <th>Education</th>\n",
              "      <th>Default</th>\n",
              "      <th>Balance</th>\n",
              "      <th>HHInsurance</th>\n",
              "      <th>CarLoan</th>\n",
              "      <th>Communication</th>\n",
              "      <th>LastContactDay</th>\n",
              "      <th>LastContactMonth</th>\n",
              "      <th>NoOfContacts</th>\n",
              "      <th>DaysPassed</th>\n",
              "      <th>PrevAttempts</th>\n",
              "      <th>Outcome</th>\n",
              "      <th>CallStart</th>\n",
              "      <th>CallEnd</th>\n",
              "      <th>CarInsurance</th>\n",
              "    </tr>\n",
              "  </thead>\n",
              "  <tbody>\n",
              "    <tr>\n",
              "      <th>0</th>\n",
              "      <td>1</td>\n",
              "      <td>32</td>\n",
              "      <td>management</td>\n",
              "      <td>single</td>\n",
              "      <td>tertiary</td>\n",
              "      <td>0</td>\n",
              "      <td>1218</td>\n",
              "      <td>1</td>\n",
              "      <td>0</td>\n",
              "      <td>telephone</td>\n",
              "      <td>28</td>\n",
              "      <td>jan</td>\n",
              "      <td>2</td>\n",
              "      <td>-1</td>\n",
              "      <td>0</td>\n",
              "      <td>NaN</td>\n",
              "      <td>13:45:20</td>\n",
              "      <td>13:46:30</td>\n",
              "      <td>0</td>\n",
              "    </tr>\n",
              "    <tr>\n",
              "      <th>1</th>\n",
              "      <td>2</td>\n",
              "      <td>32</td>\n",
              "      <td>blue-collar</td>\n",
              "      <td>married</td>\n",
              "      <td>primary</td>\n",
              "      <td>0</td>\n",
              "      <td>1156</td>\n",
              "      <td>1</td>\n",
              "      <td>0</td>\n",
              "      <td>NaN</td>\n",
              "      <td>26</td>\n",
              "      <td>may</td>\n",
              "      <td>5</td>\n",
              "      <td>-1</td>\n",
              "      <td>0</td>\n",
              "      <td>NaN</td>\n",
              "      <td>14:49:03</td>\n",
              "      <td>14:52:08</td>\n",
              "      <td>0</td>\n",
              "    </tr>\n",
              "    <tr>\n",
              "      <th>2</th>\n",
              "      <td>3</td>\n",
              "      <td>29</td>\n",
              "      <td>management</td>\n",
              "      <td>single</td>\n",
              "      <td>tertiary</td>\n",
              "      <td>0</td>\n",
              "      <td>637</td>\n",
              "      <td>1</td>\n",
              "      <td>0</td>\n",
              "      <td>cellular</td>\n",
              "      <td>3</td>\n",
              "      <td>jun</td>\n",
              "      <td>1</td>\n",
              "      <td>119</td>\n",
              "      <td>1</td>\n",
              "      <td>failure</td>\n",
              "      <td>16:30:24</td>\n",
              "      <td>16:36:04</td>\n",
              "      <td>1</td>\n",
              "    </tr>\n",
              "    <tr>\n",
              "      <th>3</th>\n",
              "      <td>4</td>\n",
              "      <td>25</td>\n",
              "      <td>student</td>\n",
              "      <td>single</td>\n",
              "      <td>primary</td>\n",
              "      <td>0</td>\n",
              "      <td>373</td>\n",
              "      <td>1</td>\n",
              "      <td>0</td>\n",
              "      <td>cellular</td>\n",
              "      <td>11</td>\n",
              "      <td>may</td>\n",
              "      <td>2</td>\n",
              "      <td>-1</td>\n",
              "      <td>0</td>\n",
              "      <td>NaN</td>\n",
              "      <td>12:06:43</td>\n",
              "      <td>12:20:22</td>\n",
              "      <td>1</td>\n",
              "    </tr>\n",
              "    <tr>\n",
              "      <th>4</th>\n",
              "      <td>5</td>\n",
              "      <td>30</td>\n",
              "      <td>management</td>\n",
              "      <td>married</td>\n",
              "      <td>tertiary</td>\n",
              "      <td>0</td>\n",
              "      <td>2694</td>\n",
              "      <td>0</td>\n",
              "      <td>0</td>\n",
              "      <td>cellular</td>\n",
              "      <td>3</td>\n",
              "      <td>jun</td>\n",
              "      <td>1</td>\n",
              "      <td>-1</td>\n",
              "      <td>0</td>\n",
              "      <td>NaN</td>\n",
              "      <td>14:35:44</td>\n",
              "      <td>14:38:56</td>\n",
              "      <td>0</td>\n",
              "    </tr>\n",
              "  </tbody>\n",
              "</table>\n",
              "</div>\n",
              "    <div class=\"colab-df-buttons\">\n",
              "\n",
              "  <div class=\"colab-df-container\">\n",
              "    <button class=\"colab-df-convert\" onclick=\"convertToInteractive('df-7bc60ca6-8dca-4a47-ad8a-761f32e4cc2b')\"\n",
              "            title=\"Convert this dataframe to an interactive table.\"\n",
              "            style=\"display:none;\">\n",
              "\n",
              "  <svg xmlns=\"http://www.w3.org/2000/svg\" height=\"24px\" viewBox=\"0 -960 960 960\">\n",
              "    <path d=\"M120-120v-720h720v720H120Zm60-500h600v-160H180v160Zm220 220h160v-160H400v160Zm0 220h160v-160H400v160ZM180-400h160v-160H180v160Zm440 0h160v-160H620v160ZM180-180h160v-160H180v160Zm440 0h160v-160H620v160Z\"/>\n",
              "  </svg>\n",
              "    </button>\n",
              "\n",
              "  <style>\n",
              "    .colab-df-container {\n",
              "      display:flex;\n",
              "      gap: 12px;\n",
              "    }\n",
              "\n",
              "    .colab-df-convert {\n",
              "      background-color: #E8F0FE;\n",
              "      border: none;\n",
              "      border-radius: 50%;\n",
              "      cursor: pointer;\n",
              "      display: none;\n",
              "      fill: #1967D2;\n",
              "      height: 32px;\n",
              "      padding: 0 0 0 0;\n",
              "      width: 32px;\n",
              "    }\n",
              "\n",
              "    .colab-df-convert:hover {\n",
              "      background-color: #E2EBFA;\n",
              "      box-shadow: 0px 1px 2px rgba(60, 64, 67, 0.3), 0px 1px 3px 1px rgba(60, 64, 67, 0.15);\n",
              "      fill: #174EA6;\n",
              "    }\n",
              "\n",
              "    .colab-df-buttons div {\n",
              "      margin-bottom: 4px;\n",
              "    }\n",
              "\n",
              "    [theme=dark] .colab-df-convert {\n",
              "      background-color: #3B4455;\n",
              "      fill: #D2E3FC;\n",
              "    }\n",
              "\n",
              "    [theme=dark] .colab-df-convert:hover {\n",
              "      background-color: #434B5C;\n",
              "      box-shadow: 0px 1px 3px 1px rgba(0, 0, 0, 0.15);\n",
              "      filter: drop-shadow(0px 1px 2px rgba(0, 0, 0, 0.3));\n",
              "      fill: #FFFFFF;\n",
              "    }\n",
              "  </style>\n",
              "\n",
              "    <script>\n",
              "      const buttonEl =\n",
              "        document.querySelector('#df-7bc60ca6-8dca-4a47-ad8a-761f32e4cc2b button.colab-df-convert');\n",
              "      buttonEl.style.display =\n",
              "        google.colab.kernel.accessAllowed ? 'block' : 'none';\n",
              "\n",
              "      async function convertToInteractive(key) {\n",
              "        const element = document.querySelector('#df-7bc60ca6-8dca-4a47-ad8a-761f32e4cc2b');\n",
              "        const dataTable =\n",
              "          await google.colab.kernel.invokeFunction('convertToInteractive',\n",
              "                                                    [key], {});\n",
              "        if (!dataTable) return;\n",
              "\n",
              "        const docLinkHtml = 'Like what you see? Visit the ' +\n",
              "          '<a target=\"_blank\" href=https://colab.research.google.com/notebooks/data_table.ipynb>data table notebook</a>'\n",
              "          + ' to learn more about interactive tables.';\n",
              "        element.innerHTML = '';\n",
              "        dataTable['output_type'] = 'display_data';\n",
              "        await google.colab.output.renderOutput(dataTable, element);\n",
              "        const docLink = document.createElement('div');\n",
              "        docLink.innerHTML = docLinkHtml;\n",
              "        element.appendChild(docLink);\n",
              "      }\n",
              "    </script>\n",
              "  </div>\n",
              "\n",
              "\n",
              "<div id=\"df-2dc0f92c-becc-4d8c-ae3d-fcf146698e67\">\n",
              "  <button class=\"colab-df-quickchart\" onclick=\"quickchart('df-2dc0f92c-becc-4d8c-ae3d-fcf146698e67')\"\n",
              "            title=\"Suggest charts\"\n",
              "            style=\"display:none;\">\n",
              "\n",
              "<svg xmlns=\"http://www.w3.org/2000/svg\" height=\"24px\"viewBox=\"0 0 24 24\"\n",
              "     width=\"24px\">\n",
              "    <g>\n",
              "        <path d=\"M19 3H5c-1.1 0-2 .9-2 2v14c0 1.1.9 2 2 2h14c1.1 0 2-.9 2-2V5c0-1.1-.9-2-2-2zM9 17H7v-7h2v7zm4 0h-2V7h2v10zm4 0h-2v-4h2v4z\"/>\n",
              "    </g>\n",
              "</svg>\n",
              "  </button>\n",
              "\n",
              "<style>\n",
              "  .colab-df-quickchart {\n",
              "      --bg-color: #E8F0FE;\n",
              "      --fill-color: #1967D2;\n",
              "      --hover-bg-color: #E2EBFA;\n",
              "      --hover-fill-color: #174EA6;\n",
              "      --disabled-fill-color: #AAA;\n",
              "      --disabled-bg-color: #DDD;\n",
              "  }\n",
              "\n",
              "  [theme=dark] .colab-df-quickchart {\n",
              "      --bg-color: #3B4455;\n",
              "      --fill-color: #D2E3FC;\n",
              "      --hover-bg-color: #434B5C;\n",
              "      --hover-fill-color: #FFFFFF;\n",
              "      --disabled-bg-color: #3B4455;\n",
              "      --disabled-fill-color: #666;\n",
              "  }\n",
              "\n",
              "  .colab-df-quickchart {\n",
              "    background-color: var(--bg-color);\n",
              "    border: none;\n",
              "    border-radius: 50%;\n",
              "    cursor: pointer;\n",
              "    display: none;\n",
              "    fill: var(--fill-color);\n",
              "    height: 32px;\n",
              "    padding: 0;\n",
              "    width: 32px;\n",
              "  }\n",
              "\n",
              "  .colab-df-quickchart:hover {\n",
              "    background-color: var(--hover-bg-color);\n",
              "    box-shadow: 0 1px 2px rgba(60, 64, 67, 0.3), 0 1px 3px 1px rgba(60, 64, 67, 0.15);\n",
              "    fill: var(--button-hover-fill-color);\n",
              "  }\n",
              "\n",
              "  .colab-df-quickchart-complete:disabled,\n",
              "  .colab-df-quickchart-complete:disabled:hover {\n",
              "    background-color: var(--disabled-bg-color);\n",
              "    fill: var(--disabled-fill-color);\n",
              "    box-shadow: none;\n",
              "  }\n",
              "\n",
              "  .colab-df-spinner {\n",
              "    border: 2px solid var(--fill-color);\n",
              "    border-color: transparent;\n",
              "    border-bottom-color: var(--fill-color);\n",
              "    animation:\n",
              "      spin 1s steps(1) infinite;\n",
              "  }\n",
              "\n",
              "  @keyframes spin {\n",
              "    0% {\n",
              "      border-color: transparent;\n",
              "      border-bottom-color: var(--fill-color);\n",
              "      border-left-color: var(--fill-color);\n",
              "    }\n",
              "    20% {\n",
              "      border-color: transparent;\n",
              "      border-left-color: var(--fill-color);\n",
              "      border-top-color: var(--fill-color);\n",
              "    }\n",
              "    30% {\n",
              "      border-color: transparent;\n",
              "      border-left-color: var(--fill-color);\n",
              "      border-top-color: var(--fill-color);\n",
              "      border-right-color: var(--fill-color);\n",
              "    }\n",
              "    40% {\n",
              "      border-color: transparent;\n",
              "      border-right-color: var(--fill-color);\n",
              "      border-top-color: var(--fill-color);\n",
              "    }\n",
              "    60% {\n",
              "      border-color: transparent;\n",
              "      border-right-color: var(--fill-color);\n",
              "    }\n",
              "    80% {\n",
              "      border-color: transparent;\n",
              "      border-right-color: var(--fill-color);\n",
              "      border-bottom-color: var(--fill-color);\n",
              "    }\n",
              "    90% {\n",
              "      border-color: transparent;\n",
              "      border-bottom-color: var(--fill-color);\n",
              "    }\n",
              "  }\n",
              "</style>\n",
              "\n",
              "  <script>\n",
              "    async function quickchart(key) {\n",
              "      const quickchartButtonEl =\n",
              "        document.querySelector('#' + key + ' button');\n",
              "      quickchartButtonEl.disabled = true;  // To prevent multiple clicks.\n",
              "      quickchartButtonEl.classList.add('colab-df-spinner');\n",
              "      try {\n",
              "        const charts = await google.colab.kernel.invokeFunction(\n",
              "            'suggestCharts', [key], {});\n",
              "      } catch (error) {\n",
              "        console.error('Error during call to suggestCharts:', error);\n",
              "      }\n",
              "      quickchartButtonEl.classList.remove('colab-df-spinner');\n",
              "      quickchartButtonEl.classList.add('colab-df-quickchart-complete');\n",
              "    }\n",
              "    (() => {\n",
              "      let quickchartButtonEl =\n",
              "        document.querySelector('#df-2dc0f92c-becc-4d8c-ae3d-fcf146698e67 button');\n",
              "      quickchartButtonEl.style.display =\n",
              "        google.colab.kernel.accessAllowed ? 'block' : 'none';\n",
              "    })();\n",
              "  </script>\n",
              "</div>\n",
              "    </div>\n",
              "  </div>\n"
            ],
            "application/vnd.google.colaboratory.intrinsic+json": {
              "type": "dataframe",
              "variable_name": "df",
              "summary": "{\n  \"name\": \"df\",\n  \"rows\": 4000,\n  \"fields\": [\n    {\n      \"column\": \"Id\",\n      \"properties\": {\n        \"dtype\": \"number\",\n        \"std\": 1154,\n        \"min\": 1,\n        \"max\": 4000,\n        \"num_unique_values\": 4000,\n        \"samples\": [\n          556,\n          3492,\n          528\n        ],\n        \"semantic_type\": \"\",\n        \"description\": \"\"\n      }\n    },\n    {\n      \"column\": \"Age\",\n      \"properties\": {\n        \"dtype\": \"number\",\n        \"std\": 11,\n        \"min\": 18,\n        \"max\": 95,\n        \"num_unique_values\": 70,\n        \"samples\": [\n          42,\n          32,\n          20\n        ],\n        \"semantic_type\": \"\",\n        \"description\": \"\"\n      }\n    },\n    {\n      \"column\": \"Job\",\n      \"properties\": {\n        \"dtype\": \"category\",\n        \"num_unique_values\": 11,\n        \"samples\": [\n          \"services\",\n          \"management\",\n          \"entrepreneur\"\n        ],\n        \"semantic_type\": \"\",\n        \"description\": \"\"\n      }\n    },\n    {\n      \"column\": \"Marital\",\n      \"properties\": {\n        \"dtype\": \"category\",\n        \"num_unique_values\": 3,\n        \"samples\": [\n          \"single\",\n          \"married\",\n          \"divorced\"\n        ],\n        \"semantic_type\": \"\",\n        \"description\": \"\"\n      }\n    },\n    {\n      \"column\": \"Education\",\n      \"properties\": {\n        \"dtype\": \"category\",\n        \"num_unique_values\": 3,\n        \"samples\": [\n          \"tertiary\",\n          \"primary\",\n          \"secondary\"\n        ],\n        \"semantic_type\": \"\",\n        \"description\": \"\"\n      }\n    },\n    {\n      \"column\": \"Default\",\n      \"properties\": {\n        \"dtype\": \"number\",\n        \"std\": 0,\n        \"min\": 0,\n        \"max\": 1,\n        \"num_unique_values\": 2,\n        \"samples\": [\n          1,\n          0\n        ],\n        \"semantic_type\": \"\",\n        \"description\": \"\"\n      }\n    },\n    {\n      \"column\": \"Balance\",\n      \"properties\": {\n        \"dtype\": \"number\",\n        \"std\": 3511,\n        \"min\": -3058,\n        \"max\": 98417,\n        \"num_unique_values\": 2178,\n        \"samples\": [\n          1297,\n          50\n        ],\n        \"semantic_type\": \"\",\n        \"description\": \"\"\n      }\n    },\n    {\n      \"column\": \"HHInsurance\",\n      \"properties\": {\n        \"dtype\": \"number\",\n        \"std\": 0,\n        \"min\": 0,\n        \"max\": 1,\n        \"num_unique_values\": 2,\n        \"samples\": [\n          0,\n          1\n        ],\n        \"semantic_type\": \"\",\n        \"description\": \"\"\n      }\n    },\n    {\n      \"column\": \"CarLoan\",\n      \"properties\": {\n        \"dtype\": \"number\",\n        \"std\": 0,\n        \"min\": 0,\n        \"max\": 1,\n        \"num_unique_values\": 2,\n        \"samples\": [\n          1,\n          0\n        ],\n        \"semantic_type\": \"\",\n        \"description\": \"\"\n      }\n    },\n    {\n      \"column\": \"Communication\",\n      \"properties\": {\n        \"dtype\": \"category\",\n        \"num_unique_values\": 2,\n        \"samples\": [\n          \"cellular\",\n          \"telephone\"\n        ],\n        \"semantic_type\": \"\",\n        \"description\": \"\"\n      }\n    },\n    {\n      \"column\": \"LastContactDay\",\n      \"properties\": {\n        \"dtype\": \"number\",\n        \"std\": 8,\n        \"min\": 1,\n        \"max\": 31,\n        \"num_unique_values\": 31,\n        \"samples\": [\n          10,\n          21\n        ],\n        \"semantic_type\": \"\",\n        \"description\": \"\"\n      }\n    },\n    {\n      \"column\": \"LastContactMonth\",\n      \"properties\": {\n        \"dtype\": \"category\",\n        \"num_unique_values\": 12,\n        \"samples\": [\n          \"oct\",\n          \"feb\"\n        ],\n        \"semantic_type\": \"\",\n        \"description\": \"\"\n      }\n    },\n    {\n      \"column\": \"NoOfContacts\",\n      \"properties\": {\n        \"dtype\": \"number\",\n        \"std\": 3,\n        \"min\": 1,\n        \"max\": 43,\n        \"num_unique_values\": 35,\n        \"samples\": [\n          29,\n          9\n        ],\n        \"semantic_type\": \"\",\n        \"description\": \"\"\n      }\n    },\n    {\n      \"column\": \"DaysPassed\",\n      \"properties\": {\n        \"dtype\": \"number\",\n        \"std\": 106,\n        \"min\": -1,\n        \"max\": 854,\n        \"num_unique_values\": 330,\n        \"samples\": [\n          558,\n          495\n        ],\n        \"semantic_type\": \"\",\n        \"description\": \"\"\n      }\n    },\n    {\n      \"column\": \"PrevAttempts\",\n      \"properties\": {\n        \"dtype\": \"number\",\n        \"std\": 2,\n        \"min\": 0,\n        \"max\": 58,\n        \"num_unique_values\": 20,\n        \"samples\": [\n          0,\n          18\n        ],\n        \"semantic_type\": \"\",\n        \"description\": \"\"\n      }\n    },\n    {\n      \"column\": \"Outcome\",\n      \"properties\": {\n        \"dtype\": \"category\",\n        \"num_unique_values\": 3,\n        \"samples\": [\n          \"failure\",\n          \"other\"\n        ],\n        \"semantic_type\": \"\",\n        \"description\": \"\"\n      }\n    },\n    {\n      \"column\": \"CallStart\",\n      \"properties\": {\n        \"dtype\": \"object\",\n        \"num_unique_values\": 3777,\n        \"samples\": [\n          \"10:11:42\",\n          \"15:46:52\"\n        ],\n        \"semantic_type\": \"\",\n        \"description\": \"\"\n      }\n    },\n    {\n      \"column\": \"CallEnd\",\n      \"properties\": {\n        \"dtype\": \"object\",\n        \"num_unique_values\": 3764,\n        \"samples\": [\n          \"17:08:45\",\n          \"11:54:30\"\n        ],\n        \"semantic_type\": \"\",\n        \"description\": \"\"\n      }\n    },\n    {\n      \"column\": \"CarInsurance\",\n      \"properties\": {\n        \"dtype\": \"number\",\n        \"std\": 0,\n        \"min\": 0,\n        \"max\": 1,\n        \"num_unique_values\": 2,\n        \"samples\": [\n          1,\n          0\n        ],\n        \"semantic_type\": \"\",\n        \"description\": \"\"\n      }\n    }\n  ]\n}"
            }
          },
          "metadata": {},
          "execution_count": 3
        }
      ]
    },
    {
      "cell_type": "markdown",
      "source": [
        "### **1. ANALISIS EKSPLORASI** **DATASET**"
      ],
      "metadata": {
        "id": "Mth2WkEOT11_"
      }
    },
    {
      "cell_type": "code",
      "source": [
        "print(\"Dataset Shape (row, col): {}\".format(df.shape))"
      ],
      "metadata": {
        "colab": {
          "base_uri": "https://localhost:8080/"
        },
        "id": "JYnrDoAbToj4",
        "outputId": "68eb0ed9-a98d-41f2-defb-665c54403ee0"
      },
      "execution_count": null,
      "outputs": [
        {
          "output_type": "stream",
          "name": "stdout",
          "text": [
            "Dataset Shape (row, col): (4000, 19)\n"
          ]
        }
      ]
    },
    {
      "cell_type": "markdown",
      "source": [
        "Disana terlihat bahwa pada dataset yang saya gunakan terdapat 4000 baris dan 19 kolom pada dataset"
      ],
      "metadata": {
        "id": "CcG_7WSxT4gT"
      }
    },
    {
      "cell_type": "code",
      "source": [
        "df.drop(\"Id\", axis=1, inplace=True)"
      ],
      "metadata": {
        "id": "-u9nB_aATomg"
      },
      "execution_count": null,
      "outputs": []
    },
    {
      "cell_type": "markdown",
      "source": [
        "kolom “Id” dihapus karena tidak relevan untuk analisis atau pemodelan yang akan dibuat."
      ],
      "metadata": {
        "id": "jwXoFheWT799"
      }
    },
    {
      "cell_type": "code",
      "source": [
        "df.info()"
      ],
      "metadata": {
        "colab": {
          "base_uri": "https://localhost:8080/"
        },
        "id": "ulsVFUK7TopV",
        "outputId": "102e3281-0ff1-43a5-f9ee-8e1642c2c56f"
      },
      "execution_count": null,
      "outputs": [
        {
          "output_type": "stream",
          "name": "stdout",
          "text": [
            "<class 'pandas.core.frame.DataFrame'>\n",
            "RangeIndex: 4000 entries, 0 to 3999\n",
            "Data columns (total 18 columns):\n",
            " #   Column            Non-Null Count  Dtype \n",
            "---  ------            --------------  ----- \n",
            " 0   Age               4000 non-null   int64 \n",
            " 1   Job               3981 non-null   object\n",
            " 2   Marital           4000 non-null   object\n",
            " 3   Education         3831 non-null   object\n",
            " 4   Default           4000 non-null   int64 \n",
            " 5   Balance           4000 non-null   int64 \n",
            " 6   HHInsurance       4000 non-null   int64 \n",
            " 7   CarLoan           4000 non-null   int64 \n",
            " 8   Communication     3098 non-null   object\n",
            " 9   LastContactDay    4000 non-null   int64 \n",
            " 10  LastContactMonth  4000 non-null   object\n",
            " 11  NoOfContacts      4000 non-null   int64 \n",
            " 12  DaysPassed        4000 non-null   int64 \n",
            " 13  PrevAttempts      4000 non-null   int64 \n",
            " 14  Outcome           958 non-null    object\n",
            " 15  CallStart         4000 non-null   object\n",
            " 16  CallEnd           4000 non-null   object\n",
            " 17  CarInsurance      4000 non-null   int64 \n",
            "dtypes: int64(10), object(8)\n",
            "memory usage: 562.6+ KB\n"
          ]
        }
      ]
    },
    {
      "cell_type": "markdown",
      "source": [
        "Terdapat beberapa kolom dengan tipe data yang berbeda:\n",
        "* int64 untuk data numerik : Tipe data untuk kolom-kolom seperti 'Age', 'Default', 'Balance', dll.\n",
        "* object untuk tipe data categorical : Tipe data untuk kolom-kolom seperti 'Job', 'Marital', 'Education', dll.\n",
        "\n",
        "Beberapa kolom memiliki nilai yang hilang, contohnya, kolom 'Job' memiliki 3981 nilai non-null, dan kolom 'Outcome' hanya memiliki 958 nilai non-null. Hal ini menunjukkan keberadaan nilai yang hilang dalam data.\n",
        "\n",
        "Adapun berikut ini penjelsan dari kolom-kolom yang ada :\n",
        "* 'Age': Umur calon pelanggan asuransi.\n",
        "* 'Job': Pekerjaan calon pelanggan.\n",
        "* 'Marital': Status pernikahan calon pelanggan.\n",
        "*  'Education': Tingkat pendidikan calon pelanggan.\n",
        "* 'Default' : berisi informasi tentang apakah klien memiliki kredit dalam kondisi default atau tidak.(binary)\n",
        "* 'Balance' : rata-rata saldo tahunan dalam mata uang Amerika Serikat (USD)  \n",
        "* 'HHInsurance': Status asuransi rumah tangga (binary).\n",
        "* 'CarLoan': apakah klien tersebut memiliki pinjaman mobil atau tidak\n",
        "* 'Communication' : jenis komunikasi yang digunakan.  \n",
        "* 'LastContactDay' : Tanggal  terakhir kontak dilakukan dengan klien\n",
        "* 'LastContactMonth : bulan terkahir kontak dengan klien\n",
        "* 'NoOfContacts : seberapa sering kontak dengan klien dilakukan\n",
        "* 'DaysPassed : jumlah hari yang telah berlalu sejak kontak terakhir.\n",
        "* 'PrevAttempts : jumlah upaya kontak sebelumnya yang telah dilakukan sebelum kampanye ini dimulai.  \n",
        "* 'CarInsurance': Status asuransi mobil (target yang ingin diprediksi, binary).\n",
        "* 'CallStart' dan 'CallEnd' mungkin berisi informasi tentang waktu panggilan.\n",
        "* 'Outcome' berisi keputusan pelanggan terkait penawaran asuransi.\n"
      ],
      "metadata": {
        "id": "WqH2kQ4DT_Kj"
      }
    },
    {
      "cell_type": "code",
      "source": [
        "df.describe()"
      ],
      "metadata": {
        "colab": {
          "base_uri": "https://localhost:8080/",
          "height": 300
        },
        "id": "I6lUOPLzTor7",
        "outputId": "e9aec06b-1e28-4a22-de76-da4f75e68b32"
      },
      "execution_count": null,
      "outputs": [
        {
          "output_type": "execute_result",
          "data": {
            "text/plain": [
              "               Age      Default       Balance  HHInsurance      CarLoan  \\\n",
              "count  4000.000000  4000.000000   4000.000000   4000.00000  4000.000000   \n",
              "mean     41.214750     0.014500   1532.937250      0.49275     0.133000   \n",
              "std      11.550194     0.119555   3511.452489      0.50001     0.339617   \n",
              "min      18.000000     0.000000  -3058.000000      0.00000     0.000000   \n",
              "25%      32.000000     0.000000    111.000000      0.00000     0.000000   \n",
              "50%      39.000000     0.000000    551.500000      0.00000     0.000000   \n",
              "75%      49.000000     0.000000   1619.000000      1.00000     0.000000   \n",
              "max      95.000000     1.000000  98417.000000      1.00000     1.000000   \n",
              "\n",
              "       LastContactDay  NoOfContacts   DaysPassed  PrevAttempts  CarInsurance  \n",
              "count     4000.000000   4000.000000  4000.000000   4000.000000   4000.000000  \n",
              "mean        15.721250      2.607250    48.706500      0.717500      0.401000  \n",
              "std          8.425307      3.064204   106.685385      2.078647      0.490162  \n",
              "min          1.000000      1.000000    -1.000000      0.000000      0.000000  \n",
              "25%          8.000000      1.000000    -1.000000      0.000000      0.000000  \n",
              "50%         16.000000      2.000000    -1.000000      0.000000      0.000000  \n",
              "75%         22.000000      3.000000    -1.000000      0.000000      1.000000  \n",
              "max         31.000000     43.000000   854.000000     58.000000      1.000000  "
            ],
            "text/html": [
              "\n",
              "  <div id=\"df-cb7e8627-3755-48f0-90aa-56e6ba25c1cf\" class=\"colab-df-container\">\n",
              "    <div>\n",
              "<style scoped>\n",
              "    .dataframe tbody tr th:only-of-type {\n",
              "        vertical-align: middle;\n",
              "    }\n",
              "\n",
              "    .dataframe tbody tr th {\n",
              "        vertical-align: top;\n",
              "    }\n",
              "\n",
              "    .dataframe thead th {\n",
              "        text-align: right;\n",
              "    }\n",
              "</style>\n",
              "<table border=\"1\" class=\"dataframe\">\n",
              "  <thead>\n",
              "    <tr style=\"text-align: right;\">\n",
              "      <th></th>\n",
              "      <th>Age</th>\n",
              "      <th>Default</th>\n",
              "      <th>Balance</th>\n",
              "      <th>HHInsurance</th>\n",
              "      <th>CarLoan</th>\n",
              "      <th>LastContactDay</th>\n",
              "      <th>NoOfContacts</th>\n",
              "      <th>DaysPassed</th>\n",
              "      <th>PrevAttempts</th>\n",
              "      <th>CarInsurance</th>\n",
              "    </tr>\n",
              "  </thead>\n",
              "  <tbody>\n",
              "    <tr>\n",
              "      <th>count</th>\n",
              "      <td>4000.000000</td>\n",
              "      <td>4000.000000</td>\n",
              "      <td>4000.000000</td>\n",
              "      <td>4000.00000</td>\n",
              "      <td>4000.000000</td>\n",
              "      <td>4000.000000</td>\n",
              "      <td>4000.000000</td>\n",
              "      <td>4000.000000</td>\n",
              "      <td>4000.000000</td>\n",
              "      <td>4000.000000</td>\n",
              "    </tr>\n",
              "    <tr>\n",
              "      <th>mean</th>\n",
              "      <td>41.214750</td>\n",
              "      <td>0.014500</td>\n",
              "      <td>1532.937250</td>\n",
              "      <td>0.49275</td>\n",
              "      <td>0.133000</td>\n",
              "      <td>15.721250</td>\n",
              "      <td>2.607250</td>\n",
              "      <td>48.706500</td>\n",
              "      <td>0.717500</td>\n",
              "      <td>0.401000</td>\n",
              "    </tr>\n",
              "    <tr>\n",
              "      <th>std</th>\n",
              "      <td>11.550194</td>\n",
              "      <td>0.119555</td>\n",
              "      <td>3511.452489</td>\n",
              "      <td>0.50001</td>\n",
              "      <td>0.339617</td>\n",
              "      <td>8.425307</td>\n",
              "      <td>3.064204</td>\n",
              "      <td>106.685385</td>\n",
              "      <td>2.078647</td>\n",
              "      <td>0.490162</td>\n",
              "    </tr>\n",
              "    <tr>\n",
              "      <th>min</th>\n",
              "      <td>18.000000</td>\n",
              "      <td>0.000000</td>\n",
              "      <td>-3058.000000</td>\n",
              "      <td>0.00000</td>\n",
              "      <td>0.000000</td>\n",
              "      <td>1.000000</td>\n",
              "      <td>1.000000</td>\n",
              "      <td>-1.000000</td>\n",
              "      <td>0.000000</td>\n",
              "      <td>0.000000</td>\n",
              "    </tr>\n",
              "    <tr>\n",
              "      <th>25%</th>\n",
              "      <td>32.000000</td>\n",
              "      <td>0.000000</td>\n",
              "      <td>111.000000</td>\n",
              "      <td>0.00000</td>\n",
              "      <td>0.000000</td>\n",
              "      <td>8.000000</td>\n",
              "      <td>1.000000</td>\n",
              "      <td>-1.000000</td>\n",
              "      <td>0.000000</td>\n",
              "      <td>0.000000</td>\n",
              "    </tr>\n",
              "    <tr>\n",
              "      <th>50%</th>\n",
              "      <td>39.000000</td>\n",
              "      <td>0.000000</td>\n",
              "      <td>551.500000</td>\n",
              "      <td>0.00000</td>\n",
              "      <td>0.000000</td>\n",
              "      <td>16.000000</td>\n",
              "      <td>2.000000</td>\n",
              "      <td>-1.000000</td>\n",
              "      <td>0.000000</td>\n",
              "      <td>0.000000</td>\n",
              "    </tr>\n",
              "    <tr>\n",
              "      <th>75%</th>\n",
              "      <td>49.000000</td>\n",
              "      <td>0.000000</td>\n",
              "      <td>1619.000000</td>\n",
              "      <td>1.00000</td>\n",
              "      <td>0.000000</td>\n",
              "      <td>22.000000</td>\n",
              "      <td>3.000000</td>\n",
              "      <td>-1.000000</td>\n",
              "      <td>0.000000</td>\n",
              "      <td>1.000000</td>\n",
              "    </tr>\n",
              "    <tr>\n",
              "      <th>max</th>\n",
              "      <td>95.000000</td>\n",
              "      <td>1.000000</td>\n",
              "      <td>98417.000000</td>\n",
              "      <td>1.00000</td>\n",
              "      <td>1.000000</td>\n",
              "      <td>31.000000</td>\n",
              "      <td>43.000000</td>\n",
              "      <td>854.000000</td>\n",
              "      <td>58.000000</td>\n",
              "      <td>1.000000</td>\n",
              "    </tr>\n",
              "  </tbody>\n",
              "</table>\n",
              "</div>\n",
              "    <div class=\"colab-df-buttons\">\n",
              "\n",
              "  <div class=\"colab-df-container\">\n",
              "    <button class=\"colab-df-convert\" onclick=\"convertToInteractive('df-cb7e8627-3755-48f0-90aa-56e6ba25c1cf')\"\n",
              "            title=\"Convert this dataframe to an interactive table.\"\n",
              "            style=\"display:none;\">\n",
              "\n",
              "  <svg xmlns=\"http://www.w3.org/2000/svg\" height=\"24px\" viewBox=\"0 -960 960 960\">\n",
              "    <path d=\"M120-120v-720h720v720H120Zm60-500h600v-160H180v160Zm220 220h160v-160H400v160Zm0 220h160v-160H400v160ZM180-400h160v-160H180v160Zm440 0h160v-160H620v160ZM180-180h160v-160H180v160Zm440 0h160v-160H620v160Z\"/>\n",
              "  </svg>\n",
              "    </button>\n",
              "\n",
              "  <style>\n",
              "    .colab-df-container {\n",
              "      display:flex;\n",
              "      gap: 12px;\n",
              "    }\n",
              "\n",
              "    .colab-df-convert {\n",
              "      background-color: #E8F0FE;\n",
              "      border: none;\n",
              "      border-radius: 50%;\n",
              "      cursor: pointer;\n",
              "      display: none;\n",
              "      fill: #1967D2;\n",
              "      height: 32px;\n",
              "      padding: 0 0 0 0;\n",
              "      width: 32px;\n",
              "    }\n",
              "\n",
              "    .colab-df-convert:hover {\n",
              "      background-color: #E2EBFA;\n",
              "      box-shadow: 0px 1px 2px rgba(60, 64, 67, 0.3), 0px 1px 3px 1px rgba(60, 64, 67, 0.15);\n",
              "      fill: #174EA6;\n",
              "    }\n",
              "\n",
              "    .colab-df-buttons div {\n",
              "      margin-bottom: 4px;\n",
              "    }\n",
              "\n",
              "    [theme=dark] .colab-df-convert {\n",
              "      background-color: #3B4455;\n",
              "      fill: #D2E3FC;\n",
              "    }\n",
              "\n",
              "    [theme=dark] .colab-df-convert:hover {\n",
              "      background-color: #434B5C;\n",
              "      box-shadow: 0px 1px 3px 1px rgba(0, 0, 0, 0.15);\n",
              "      filter: drop-shadow(0px 1px 2px rgba(0, 0, 0, 0.3));\n",
              "      fill: #FFFFFF;\n",
              "    }\n",
              "  </style>\n",
              "\n",
              "    <script>\n",
              "      const buttonEl =\n",
              "        document.querySelector('#df-cb7e8627-3755-48f0-90aa-56e6ba25c1cf button.colab-df-convert');\n",
              "      buttonEl.style.display =\n",
              "        google.colab.kernel.accessAllowed ? 'block' : 'none';\n",
              "\n",
              "      async function convertToInteractive(key) {\n",
              "        const element = document.querySelector('#df-cb7e8627-3755-48f0-90aa-56e6ba25c1cf');\n",
              "        const dataTable =\n",
              "          await google.colab.kernel.invokeFunction('convertToInteractive',\n",
              "                                                    [key], {});\n",
              "        if (!dataTable) return;\n",
              "\n",
              "        const docLinkHtml = 'Like what you see? Visit the ' +\n",
              "          '<a target=\"_blank\" href=https://colab.research.google.com/notebooks/data_table.ipynb>data table notebook</a>'\n",
              "          + ' to learn more about interactive tables.';\n",
              "        element.innerHTML = '';\n",
              "        dataTable['output_type'] = 'display_data';\n",
              "        await google.colab.output.renderOutput(dataTable, element);\n",
              "        const docLink = document.createElement('div');\n",
              "        docLink.innerHTML = docLinkHtml;\n",
              "        element.appendChild(docLink);\n",
              "      }\n",
              "    </script>\n",
              "  </div>\n",
              "\n",
              "\n",
              "<div id=\"df-ec3e1bd0-7d13-48aa-9eb7-3026e083814d\">\n",
              "  <button class=\"colab-df-quickchart\" onclick=\"quickchart('df-ec3e1bd0-7d13-48aa-9eb7-3026e083814d')\"\n",
              "            title=\"Suggest charts\"\n",
              "            style=\"display:none;\">\n",
              "\n",
              "<svg xmlns=\"http://www.w3.org/2000/svg\" height=\"24px\"viewBox=\"0 0 24 24\"\n",
              "     width=\"24px\">\n",
              "    <g>\n",
              "        <path d=\"M19 3H5c-1.1 0-2 .9-2 2v14c0 1.1.9 2 2 2h14c1.1 0 2-.9 2-2V5c0-1.1-.9-2-2-2zM9 17H7v-7h2v7zm4 0h-2V7h2v10zm4 0h-2v-4h2v4z\"/>\n",
              "    </g>\n",
              "</svg>\n",
              "  </button>\n",
              "\n",
              "<style>\n",
              "  .colab-df-quickchart {\n",
              "      --bg-color: #E8F0FE;\n",
              "      --fill-color: #1967D2;\n",
              "      --hover-bg-color: #E2EBFA;\n",
              "      --hover-fill-color: #174EA6;\n",
              "      --disabled-fill-color: #AAA;\n",
              "      --disabled-bg-color: #DDD;\n",
              "  }\n",
              "\n",
              "  [theme=dark] .colab-df-quickchart {\n",
              "      --bg-color: #3B4455;\n",
              "      --fill-color: #D2E3FC;\n",
              "      --hover-bg-color: #434B5C;\n",
              "      --hover-fill-color: #FFFFFF;\n",
              "      --disabled-bg-color: #3B4455;\n",
              "      --disabled-fill-color: #666;\n",
              "  }\n",
              "\n",
              "  .colab-df-quickchart {\n",
              "    background-color: var(--bg-color);\n",
              "    border: none;\n",
              "    border-radius: 50%;\n",
              "    cursor: pointer;\n",
              "    display: none;\n",
              "    fill: var(--fill-color);\n",
              "    height: 32px;\n",
              "    padding: 0;\n",
              "    width: 32px;\n",
              "  }\n",
              "\n",
              "  .colab-df-quickchart:hover {\n",
              "    background-color: var(--hover-bg-color);\n",
              "    box-shadow: 0 1px 2px rgba(60, 64, 67, 0.3), 0 1px 3px 1px rgba(60, 64, 67, 0.15);\n",
              "    fill: var(--button-hover-fill-color);\n",
              "  }\n",
              "\n",
              "  .colab-df-quickchart-complete:disabled,\n",
              "  .colab-df-quickchart-complete:disabled:hover {\n",
              "    background-color: var(--disabled-bg-color);\n",
              "    fill: var(--disabled-fill-color);\n",
              "    box-shadow: none;\n",
              "  }\n",
              "\n",
              "  .colab-df-spinner {\n",
              "    border: 2px solid var(--fill-color);\n",
              "    border-color: transparent;\n",
              "    border-bottom-color: var(--fill-color);\n",
              "    animation:\n",
              "      spin 1s steps(1) infinite;\n",
              "  }\n",
              "\n",
              "  @keyframes spin {\n",
              "    0% {\n",
              "      border-color: transparent;\n",
              "      border-bottom-color: var(--fill-color);\n",
              "      border-left-color: var(--fill-color);\n",
              "    }\n",
              "    20% {\n",
              "      border-color: transparent;\n",
              "      border-left-color: var(--fill-color);\n",
              "      border-top-color: var(--fill-color);\n",
              "    }\n",
              "    30% {\n",
              "      border-color: transparent;\n",
              "      border-left-color: var(--fill-color);\n",
              "      border-top-color: var(--fill-color);\n",
              "      border-right-color: var(--fill-color);\n",
              "    }\n",
              "    40% {\n",
              "      border-color: transparent;\n",
              "      border-right-color: var(--fill-color);\n",
              "      border-top-color: var(--fill-color);\n",
              "    }\n",
              "    60% {\n",
              "      border-color: transparent;\n",
              "      border-right-color: var(--fill-color);\n",
              "    }\n",
              "    80% {\n",
              "      border-color: transparent;\n",
              "      border-right-color: var(--fill-color);\n",
              "      border-bottom-color: var(--fill-color);\n",
              "    }\n",
              "    90% {\n",
              "      border-color: transparent;\n",
              "      border-bottom-color: var(--fill-color);\n",
              "    }\n",
              "  }\n",
              "</style>\n",
              "\n",
              "  <script>\n",
              "    async function quickchart(key) {\n",
              "      const quickchartButtonEl =\n",
              "        document.querySelector('#' + key + ' button');\n",
              "      quickchartButtonEl.disabled = true;  // To prevent multiple clicks.\n",
              "      quickchartButtonEl.classList.add('colab-df-spinner');\n",
              "      try {\n",
              "        const charts = await google.colab.kernel.invokeFunction(\n",
              "            'suggestCharts', [key], {});\n",
              "      } catch (error) {\n",
              "        console.error('Error during call to suggestCharts:', error);\n",
              "      }\n",
              "      quickchartButtonEl.classList.remove('colab-df-spinner');\n",
              "      quickchartButtonEl.classList.add('colab-df-quickchart-complete');\n",
              "    }\n",
              "    (() => {\n",
              "      let quickchartButtonEl =\n",
              "        document.querySelector('#df-ec3e1bd0-7d13-48aa-9eb7-3026e083814d button');\n",
              "      quickchartButtonEl.style.display =\n",
              "        google.colab.kernel.accessAllowed ? 'block' : 'none';\n",
              "    })();\n",
              "  </script>\n",
              "</div>\n",
              "    </div>\n",
              "  </div>\n"
            ],
            "application/vnd.google.colaboratory.intrinsic+json": {
              "type": "dataframe",
              "summary": "{\n  \"name\": \"df\",\n  \"rows\": 8,\n  \"fields\": [\n    {\n      \"column\": \"Age\",\n      \"properties\": {\n        \"dtype\": \"number\",\n        \"std\": 1400.007878450892,\n        \"min\": 11.55019411886856,\n        \"max\": 4000.0,\n        \"num_unique_values\": 8,\n        \"samples\": [\n          41.21475,\n          39.0,\n          4000.0\n        ],\n        \"semantic_type\": \"\",\n        \"description\": \"\"\n      }\n    },\n    {\n      \"column\": \"Default\",\n      \"properties\": {\n        \"dtype\": \"number\",\n        \"std\": 1414.1563259239945,\n        \"min\": 0.0,\n        \"max\": 4000.0,\n        \"num_unique_values\": 5,\n        \"samples\": [\n          0.0145,\n          1.0,\n          0.11955468761547038\n        ],\n        \"semantic_type\": \"\",\n        \"description\": \"\"\n      }\n    },\n    {\n      \"column\": \"Balance\",\n      \"properties\": {\n        \"dtype\": \"number\",\n        \"std\": 34446.99213514305,\n        \"min\": -3058.0,\n        \"max\": 98417.0,\n        \"num_unique_values\": 8,\n        \"samples\": [\n          1532.93725,\n          551.5,\n          4000.0\n        ],\n        \"semantic_type\": \"\",\n        \"description\": \"\"\n      }\n    },\n    {\n      \"column\": \"HHInsurance\",\n      \"properties\": {\n        \"dtype\": \"number\",\n        \"std\": 1414.062466456946,\n        \"min\": 0.0,\n        \"max\": 4000.0,\n        \"num_unique_values\": 5,\n        \"samples\": [\n          0.49275,\n          1.0,\n          0.5000099398861949\n        ],\n        \"semantic_type\": \"\",\n        \"description\": \"\"\n      }\n    },\n    {\n      \"column\": \"CarLoan\",\n      \"properties\": {\n        \"dtype\": \"number\",\n        \"std\": 1414.1392255545834,\n        \"min\": 0.0,\n        \"max\": 4000.0,\n        \"num_unique_values\": 5,\n        \"samples\": [\n          0.133,\n          1.0,\n          0.3396171888446456\n        ],\n        \"semantic_type\": \"\",\n        \"description\": \"\"\n      }\n    },\n    {\n      \"column\": \"LastContactDay\",\n      \"properties\": {\n        \"dtype\": \"number\",\n        \"std\": 1409.0844721104895,\n        \"min\": 1.0,\n        \"max\": 4000.0,\n        \"num_unique_values\": 8,\n        \"samples\": [\n          15.72125,\n          16.0,\n          4000.0\n        ],\n        \"semantic_type\": \"\",\n        \"description\": \"\"\n      }\n    },\n    {\n      \"column\": \"NoOfContacts\",\n      \"properties\": {\n        \"dtype\": \"number\",\n        \"std\": 1411.4744732005217,\n        \"min\": 1.0,\n        \"max\": 4000.0,\n        \"num_unique_values\": 7,\n        \"samples\": [\n          4000.0,\n          2.60725,\n          3.0\n        ],\n        \"semantic_type\": \"\",\n        \"description\": \"\"\n      }\n    },\n    {\n      \"column\": \"DaysPassed\",\n      \"properties\": {\n        \"dtype\": \"number\",\n        \"std\": 1394.4446208622799,\n        \"min\": -1.0,\n        \"max\": 4000.0,\n        \"num_unique_values\": 5,\n        \"samples\": [\n          48.7065,\n          854.0,\n          106.68538466245104\n        ],\n        \"semantic_type\": \"\",\n        \"description\": \"\"\n      }\n    },\n    {\n      \"column\": \"PrevAttempts\",\n      \"properties\": {\n        \"dtype\": \"number\",\n        \"std\": 1411.2866807582343,\n        \"min\": 0.0,\n        \"max\": 4000.0,\n        \"num_unique_values\": 5,\n        \"samples\": [\n          0.7175,\n          58.0,\n          2.07864714261124\n        ],\n        \"semantic_type\": \"\",\n        \"description\": \"\"\n      }\n    },\n    {\n      \"column\": \"CarInsurance\",\n      \"properties\": {\n        \"dtype\": \"number\",\n        \"std\": 1414.0675975923161,\n        \"min\": 0.0,\n        \"max\": 4000.0,\n        \"num_unique_values\": 5,\n        \"samples\": [\n          0.401,\n          1.0,\n          0.4901622841123046\n        ],\n        \"semantic_type\": \"\",\n        \"description\": \"\"\n      }\n    }\n  ]\n}"
            }
          },
          "metadata": {},
          "execution_count": 7
        }
      ]
    },
    {
      "cell_type": "markdown",
      "source": [
        "disini kita dapat melihat ringkasan statistik deskriptif dari data seperti :\n",
        "* Count: Jumlah entri atau pengamatan non-null dalam kolom.\n",
        "* Mean: Rata-rata nilai dalam kolom.\n",
        "* Std (Standard Deviation): Deviasi standar, mengukur seberapa tersebar nilai-nilai di sekitar rata-rata.\n",
        "* Min: Nilai minimum dalam kolom.\n",
        "* 25% (Q1): Kuartil pertama, nilai yang membagi 25% data terendah.\n",
        "* 50% (Median): Nilai tengah atau median, membagi data menjadi dua bagian setara.\n",
        "* 75% (Q3): Kuartil ketiga, nilai yang membagi 75% data terendah.\n",
        "* Max: Nilai maksimum dalam kolom."
      ],
      "metadata": {
        "id": "6dltkPLcUCn8"
      }
    },
    {
      "cell_type": "code",
      "source": [
        "#list of all the categoric columns\n",
        "cat = df.select_dtypes('object').columns.to_list()\n",
        "for col in cat[:6]:\n",
        "    print(col,\"\\n\",df[col].value_counts()/df.shape[0],\"\\n\\n\")"
      ],
      "metadata": {
        "colab": {
          "base_uri": "https://localhost:8080/"
        },
        "id": "6Vp7fdB_Toul",
        "outputId": "6f848329-e90d-4ccd-ce77-05ff7a7827dc"
      },
      "execution_count": null,
      "outputs": [
        {
          "output_type": "stream",
          "name": "stdout",
          "text": [
            "Job \n",
            " management       0.22325\n",
            "blue-collar      0.18975\n",
            "technician       0.16500\n",
            "admin.           0.11475\n",
            "services         0.08250\n",
            "retired          0.06225\n",
            "self-employed    0.03500\n",
            "student          0.03275\n",
            "unemployed       0.03250\n",
            "entrepreneur     0.03025\n",
            "housemaid        0.02725\n",
            "Name: Job, dtype: float64 \n",
            "\n",
            "\n",
            "Marital \n",
            " married     0.57600\n",
            "single      0.30325\n",
            "divorced    0.12075\n",
            "Name: Marital, dtype: float64 \n",
            "\n",
            "\n",
            "Education \n",
            " secondary    0.49700\n",
            "tertiary     0.32050\n",
            "primary      0.14025\n",
            "Name: Education, dtype: float64 \n",
            "\n",
            "\n",
            "Communication \n",
            " cellular     0.70775\n",
            "telephone    0.06675\n",
            "Name: Communication, dtype: float64 \n",
            "\n",
            "\n",
            "LastContactMonth \n",
            " may    0.26225\n",
            "jul    0.14325\n",
            "aug    0.13400\n",
            "jun    0.11350\n",
            "nov    0.08675\n",
            "apr    0.07650\n",
            "feb    0.06550\n",
            "jan    0.03350\n",
            "oct    0.02950\n",
            "sep    0.02525\n",
            "mar    0.01975\n",
            "dec    0.01025\n",
            "Name: LastContactMonth, dtype: float64 \n",
            "\n",
            "\n",
            "Outcome \n",
            " failure    0.10925\n",
            "success    0.08150\n",
            "other      0.04875\n",
            "Name: Outcome, dtype: float64 \n",
            "\n",
            "\n"
          ]
        }
      ]
    },
    {
      "cell_type": "markdown",
      "source": [
        "* Pada hasil diatas terlihat bahwa kebanyakan costumer bekerja di bidang management, mereka telah menikah, memiliki pendidikan tingkat secondary, dan menggunakan telepon cellular untuk berkomunikasi.\n",
        "* untuk hasil kampanye pemasaran sebelumnya kebanyakan gagal.\n",
        "* costumer paling banyak dihubungi pada bulan may"
      ],
      "metadata": {
        "id": "N-S5PKoBUIBc"
      }
    },
    {
      "cell_type": "markdown",
      "source": [
        "#### **Visualisasi data categorical**"
      ],
      "metadata": {
        "id": "frA1Kw9gUKOl"
      }
    },
    {
      "cell_type": "code",
      "source": [
        "print(df[\"CarInsurance\"].value_counts())\n",
        "total = float(len(df[\"CarInsurance\"]))\n",
        "plt.figure(figsize=(5,3))\n",
        "sns.countplot(x=\"CarInsurance\" , data=df ,palette='rocket_r')\n",
        "plt.title(\"CarInsurance\", fontsize=14)\n",
        "plt.show()"
      ],
      "metadata": {
        "colab": {
          "base_uri": "https://localhost:8080/",
          "height": 493
        },
        "id": "hOcOkTNWTo0E",
        "outputId": "a7769c6a-2001-43ca-fc06-67e3a66abf19"
      },
      "execution_count": null,
      "outputs": [
        {
          "output_type": "stream",
          "name": "stdout",
          "text": [
            "0    2396\n",
            "1    1604\n",
            "Name: CarInsurance, dtype: int64\n"
          ]
        },
        {
          "output_type": "stream",
          "name": "stderr",
          "text": [
            "<ipython-input-9-de743048d069>:4: FutureWarning: \n",
            "\n",
            "Passing `palette` without assigning `hue` is deprecated and will be removed in v0.14.0. Assign the `x` variable to `hue` and set `legend=False` for the same effect.\n",
            "\n",
            "  sns.countplot(x=\"CarInsurance\" , data=df ,palette='rocket_r')\n"
          ]
        },
        {
          "output_type": "display_data",
          "data": {
            "text/plain": [
              "<Figure size 500x300 with 1 Axes>"
            ],
            "image/png": "[encoded data removed]"
          },
          "metadata": {}
        }
      ]
    },
    {
      "cell_type": "markdown",
      "source": [
        "terlihat bahwah klien paling banyak belum memiliki asuransi mobil. diamana yang memiliki asuransi mobil adalah sebanyak 1604 dan yang tidak punya asuransi mobil sebanyak 2396 orang"
      ],
      "metadata": {
        "id": "CsJXJ8lmUNi7"
      }
    },
    {
      "cell_type": "code",
      "source": [
        "plt.figure(figsize=(6,3))\n",
        "sns.countplot(x=\"Outcome\" , data=df ,palette='rocket_r')\n",
        "plt.title(\"Outcome\", fontsize=14)\n",
        "plt.show()\n",
        "print(\"% of total:\")\n",
        "print(round((df[\"Outcome\"].value_counts()/df.shape[0]),4)*100)"
      ],
      "metadata": {
        "colab": {
          "base_uri": "https://localhost:8080/",
          "height": 528
        },
        "id": "sOJ9g_k6To21",
        "outputId": "e6cd7a64-63dc-4b5e-8af9-354725a61cf3"
      },
      "execution_count": null,
      "outputs": [
        {
          "output_type": "stream",
          "name": "stderr",
          "text": [
            "<ipython-input-10-a8740eb0b30a>:2: FutureWarning: \n",
            "\n",
            "Passing `palette` without assigning `hue` is deprecated and will be removed in v0.14.0. Assign the `x` variable to `hue` and set `legend=False` for the same effect.\n",
            "\n",
            "  sns.countplot(x=\"Outcome\" , data=df ,palette='rocket_r')\n"
          ]
        },
        {
          "output_type": "display_data",
          "data": {
            "text/plain": [
              "<Figure size 600x300 with 1 Axes>"
            ],
            "image/png": "[encoded data removed]"
          },
          "metadata": {}
        },
        {
          "output_type": "stream",
          "name": "stdout",
          "text": [
            "% of total:\n",
            "failure    10.92\n",
            "success     8.15\n",
            "other       4.88\n",
            "Name: Outcome, dtype: float64\n"
          ]
        }
      ]
    },
    {
      "cell_type": "markdown",
      "source": [
        "\n",
        "\n",
        "pada plot diatas dapat diketahu bahwa kebanyakan penawaran yang dilakukan kepada klien berakhir gagal(failure). adapun paling sedikt adalah other, berarti klien yang dihubungi pada penawaran sebelumnya kebanyakan belum menjawab secara signifikan"
      ],
      "metadata": {
        "id": "D3JMuou4URZr"
      }
    },
    {
      "cell_type": "code",
      "source": [
        "plt.figure(figsize=(15,8))\n",
        "sns.countplot(x=\"Job\" , data=df ,palette='viridis_r')\n",
        "plt.title(\"Job\", fontsize=14)\n",
        "plt.show()\n",
        "print(\"% of total:\")\n",
        "print(round((df[\"Job\"].value_counts()/df.shape[0]),4)*100)"
      ],
      "metadata": {
        "colab": {
          "base_uri": "https://localhost:8080/",
          "height": 1000
        },
        "id": "-vkghjkNTo5Y",
        "outputId": "b1a92a98-1583-4dc0-c449-456f92c50c9b"
      },
      "execution_count": null,
      "outputs": [
        {
          "output_type": "stream",
          "name": "stderr",
          "text": [
            "<ipython-input-11-08313a5be3c6>:2: FutureWarning: \n",
            "\n",
            "Passing `palette` without assigning `hue` is deprecated and will be removed in v0.14.0. Assign the `x` variable to `hue` and set `legend=False` for the same effect.\n",
            "\n",
            "  sns.countplot(x=\"Job\" , data=df ,palette='viridis_r')\n"
          ]
        },
        {
          "output_type": "display_data",
          "data": {
            "text/plain": [
              "<Figure size 1500x800 with 1 Axes>"
            ],
            "image/png": "[encoded data removed]"
          },
          "metadata": {}
        },
        {
          "output_type": "stream",
          "name": "stdout",
          "text": [
            "% of total:\n",
            "management       22.32\n",
            "blue-collar      18.98\n",
            "technician       16.50\n",
            "admin.           11.48\n",
            "services          8.25\n",
            "retired           6.22\n",
            "self-employed     3.50\n",
            "student           3.28\n",
            "unemployed        3.25\n",
            "entrepreneur      3.02\n",
            "housemaid         2.72\n",
            "Name: Job, dtype: float64\n"
          ]
        }
      ]
    },
    {
      "cell_type": "markdown",
      "source": [
        "dari plot diatas dapat diketahui bahwa klien paling banyak bekerja sebagai management dan paling sedikit bekerja sebagai haousemaid."
      ],
      "metadata": {
        "id": "t4VnpzaXUWRh"
      }
    },
    {
      "cell_type": "code",
      "source": [
        "plt.figure(figsize=(5,3))\n",
        "sns.countplot(x=\"Marital\" , data=df ,palette='rocket')\n",
        "plt.title(\"Marital\", fontsize=14)\n",
        "plt.show()\n",
        "print(\"% of total:\")\n",
        "print(round((df[\"Marital\"].value_counts()/df.shape[0]),4)*100)"
      ],
      "metadata": {
        "colab": {
          "base_uri": "https://localhost:8080/",
          "height": 528
        },
        "id": "cQG9mDL-To7-",
        "outputId": "7987058b-e4cc-43bf-fc5a-ecd70215d26e"
      },
      "execution_count": null,
      "outputs": [
        {
          "output_type": "stream",
          "name": "stderr",
          "text": [
            "<ipython-input-12-6c1a505fc9a0>:2: FutureWarning: \n",
            "\n",
            "Passing `palette` without assigning `hue` is deprecated and will be removed in v0.14.0. Assign the `x` variable to `hue` and set `legend=False` for the same effect.\n",
            "\n",
            "  sns.countplot(x=\"Marital\" , data=df ,palette='rocket')\n"
          ]
        },
        {
          "output_type": "display_data",
          "data": {
            "text/plain": [
              "<Figure size 500x300 with 1 Axes>"
            ],
            "image/png": "[encoded data removed]"
          },
          "metadata": {}
        },
        {
          "output_type": "stream",
          "name": "stdout",
          "text": [
            "% of total:\n",
            "married     57.60\n",
            "single      30.32\n",
            "divorced    12.08\n",
            "Name: Marital, dtype: float64\n"
          ]
        }
      ]
    },
    {
      "cell_type": "markdown",
      "source": [
        "pada plot tesebut, paling banyak klien telah berstatus menikah dan paling sedikit berstatus bercerai."
      ],
      "metadata": {
        "id": "--BiDwPRUaRn"
      }
    },
    {
      "cell_type": "code",
      "source": [
        "plt.figure(figsize=(5,3))\n",
        "sns.countplot(x=\"Education\" , data=df ,palette='nipy_spectral')\n",
        "plt.title(\"Education\", fontsize=14)\n",
        "plt.show()\n",
        "print(\"% of total:\")\n",
        "print(round((df[\"Education\"].value_counts()/df.shape[0]),4)*100)"
      ],
      "metadata": {
        "colab": {
          "base_uri": "https://localhost:8080/",
          "height": 528
        },
        "id": "gysGR5pMTo-5",
        "outputId": "4b196d04-b9ab-4db4-90a2-0f370d5b48f3"
      },
      "execution_count": null,
      "outputs": [
        {
          "output_type": "stream",
          "name": "stderr",
          "text": [
            "<ipython-input-13-3995762ff3ac>:2: FutureWarning: \n",
            "\n",
            "Passing `palette` without assigning `hue` is deprecated and will be removed in v0.14.0. Assign the `x` variable to `hue` and set `legend=False` for the same effect.\n",
            "\n",
            "  sns.countplot(x=\"Education\" , data=df ,palette='nipy_spectral')\n"
          ]
        },
        {
          "output_type": "display_data",
          "data": {
            "text/plain": [
              "<Figure size 500x300 with 1 Axes>"
            ],
            "image/png": "[encoded data removed]"
          },
          "metadata": {}
        },
        {
          "output_type": "stream",
          "name": "stdout",
          "text": [
            "% of total:\n",
            "secondary    49.70\n",
            "tertiary     32.05\n",
            "primary      14.03\n",
            "Name: Education, dtype: float64\n"
          ]
        }
      ]
    },
    {
      "cell_type": "markdown",
      "source": [
        "berdasarkan plot tersebut dapat diketahui klien yang dihubungi paling banyak mempunyai pendidikan secondary (menengah) dan paling sedikit pendidikan primary (dasar)"
      ],
      "metadata": {
        "id": "dL0IcbFHUeds"
      }
    },
    {
      "cell_type": "code",
      "source": [
        "plt.figure(figsize=(4,3))\n",
        "sns.countplot(x=\"Default\" , data=df ,palette='CMRmap')\n",
        "plt.title(\"Default\", fontsize=14)\n",
        "plt.show()\n",
        "print(\"% of total:\")\n",
        "print(round((df[\"Default\"].value_counts()/df.shape[0]),4)*100)"
      ],
      "metadata": {
        "colab": {
          "base_uri": "https://localhost:8080/",
          "height": 510
        },
        "id": "jtOg1s7eTpBq",
        "outputId": "a541d9f2-0849-470f-8d9a-de1f9ca6a93f"
      },
      "execution_count": null,
      "outputs": [
        {
          "output_type": "stream",
          "name": "stderr",
          "text": [
            "<ipython-input-14-dc127e35b288>:2: FutureWarning: \n",
            "\n",
            "Passing `palette` without assigning `hue` is deprecated and will be removed in v0.14.0. Assign the `x` variable to `hue` and set `legend=False` for the same effect.\n",
            "\n",
            "  sns.countplot(x=\"Default\" , data=df ,palette='CMRmap')\n"
          ]
        },
        {
          "output_type": "display_data",
          "data": {
            "text/plain": [
              "<Figure size 400x300 with 1 Axes>"
            ],
            "image/png": "[encoded data removed]"
          },
          "metadata": {}
        },
        {
          "output_type": "stream",
          "name": "stdout",
          "text": [
            "% of total:\n",
            "0    98.55\n",
            "1     1.45\n",
            "Name: Default, dtype: float64\n"
          ]
        }
      ]
    },
    {
      "cell_type": "markdown",
      "source": [
        "dari plot diatas terlihat bahwa klien yang dihubungi 98,55% tidak mempuunyai kredit atau hutang."
      ],
      "metadata": {
        "id": "cZp4gPTOUh7b"
      }
    },
    {
      "cell_type": "code",
      "source": [
        "plt.figure(figsize=(4,3))\n",
        "sns.countplot(x=\"HHInsurance\" , data=df ,palette='rainbow')\n",
        "plt.title(\"HHInsurance\", fontsize=14)\n",
        "plt.show()\n",
        "print(\"% of total:\")\n",
        "print(round((df[\"HHInsurance\"].value_counts()/df.shape[0]),4)*100)"
      ],
      "metadata": {
        "colab": {
          "base_uri": "https://localhost:8080/",
          "height": 510
        },
        "id": "ikco1s4STpEW",
        "outputId": "6116a6d1-ad60-4357-fd7c-901cd4ad04c9"
      },
      "execution_count": null,
      "outputs": [
        {
          "output_type": "stream",
          "name": "stderr",
          "text": [
            "<ipython-input-15-3d06650106aa>:2: FutureWarning: \n",
            "\n",
            "Passing `palette` without assigning `hue` is deprecated and will be removed in v0.14.0. Assign the `x` variable to `hue` and set `legend=False` for the same effect.\n",
            "\n",
            "  sns.countplot(x=\"HHInsurance\" , data=df ,palette='rainbow')\n"
          ]
        },
        {
          "output_type": "display_data",
          "data": {
            "text/plain": [
              "<Figure size 400x300 with 1 Axes>"
            ],
            "image/png": "[encoded data removed]"
          },
          "metadata": {}
        },
        {
          "output_type": "stream",
          "name": "stdout",
          "text": [
            "% of total:\n",
            "0    50.72\n",
            "1    49.28\n",
            "Name: HHInsurance, dtype: float64\n"
          ]
        }
      ]
    },
    {
      "cell_type": "markdown",
      "source": [
        "terlihat bahwa klien yang dihubungi kebanyakan tidak mempunyai asuransi rumah."
      ],
      "metadata": {
        "id": "a5litP_MUlpD"
      }
    },
    {
      "cell_type": "code",
      "source": [
        "plt.figure(figsize=(4,3))\n",
        "sns.countplot(x=\"CarLoan\" , data=df ,palette='rocket')\n",
        "plt.title(\"CarLoan\", fontsize=14)\n",
        "plt.show()\n",
        "print(\"% of total:\")\n",
        "print(round((df[\"CarLoan\"].value_counts()/df.shape[0]),4)*100)"
      ],
      "metadata": {
        "colab": {
          "base_uri": "https://localhost:8080/",
          "height": 510
        },
        "id": "oC94eGJjTpHB",
        "outputId": "80591207-df71-48cb-9256-ccadadd16826"
      },
      "execution_count": null,
      "outputs": [
        {
          "output_type": "stream",
          "name": "stderr",
          "text": [
            "<ipython-input-16-077a4b64452e>:2: FutureWarning: \n",
            "\n",
            "Passing `palette` without assigning `hue` is deprecated and will be removed in v0.14.0. Assign the `x` variable to `hue` and set `legend=False` for the same effect.\n",
            "\n",
            "  sns.countplot(x=\"CarLoan\" , data=df ,palette='rocket')\n"
          ]
        },
        {
          "output_type": "display_data",
          "data": {
            "text/plain": [
              "<Figure size 400x300 with 1 Axes>"
            ],
            "image/png": "[encoded data removed]"
          },
          "metadata": {}
        },
        {
          "output_type": "stream",
          "name": "stdout",
          "text": [
            "% of total:\n",
            "0    86.7\n",
            "1    13.3\n",
            "Name: CarLoan, dtype: float64\n"
          ]
        }
      ]
    },
    {
      "cell_type": "markdown",
      "source": [
        "dari plot diatas dapat diketahui kebanyakan klien yang yang dihubungi tidak memiliki kredit mobil."
      ],
      "metadata": {
        "id": "y88qjKYNUpiM"
      }
    },
    {
      "cell_type": "code",
      "source": [
        "plt.figure(figsize=(4,3))\n",
        "sns.countplot(x=\"Communication\" , data=df ,palette='cubehelix')\n",
        "plt.title(\"Communication\", fontsize=14)\n",
        "plt.show()\n",
        "print(\"% of total:\")\n",
        "print(round((df[\"Communication\"].value_counts()/df.shape[0]),4)*100)"
      ],
      "metadata": {
        "colab": {
          "base_uri": "https://localhost:8080/",
          "height": 510
        },
        "id": "EFwKqk8PTpJl",
        "outputId": "3d294a1e-34dd-4111-e6cb-ebd140e82207"
      },
      "execution_count": null,
      "outputs": [
        {
          "output_type": "stream",
          "name": "stderr",
          "text": [
            "<ipython-input-17-87fe7ac85459>:2: FutureWarning: \n",
            "\n",
            "Passing `palette` without assigning `hue` is deprecated and will be removed in v0.14.0. Assign the `x` variable to `hue` and set `legend=False` for the same effect.\n",
            "\n",
            "  sns.countplot(x=\"Communication\" , data=df ,palette='cubehelix')\n"
          ]
        },
        {
          "output_type": "display_data",
          "data": {
            "text/plain": [
              "<Figure size 400x300 with 1 Axes>"
            ],
            "image/png": "[encoded data removed]"
          },
          "metadata": {}
        },
        {
          "output_type": "stream",
          "name": "stdout",
          "text": [
            "% of total:\n",
            "cellular     70.78\n",
            "telephone     6.68\n",
            "Name: Communication, dtype: float64\n"
          ]
        }
      ]
    },
    {
      "cell_type": "markdown",
      "source": [
        "dari plot diatas dapat diketahui bahwa jenis media komunikasi yang digunakan olrh klien adalah cellular"
      ],
      "metadata": {
        "id": "uISV6OKdUuBv"
      }
    },
    {
      "cell_type": "code",
      "source": [
        "plt.figure(figsize=(10,4))\n",
        "sns.countplot(x=\"LastContactDay\" , data=df ,palette='icefire')\n",
        "plt.title(\"LastContactDay\", fontsize=14)\n",
        "plt.show()\n",
        "print(\"% of total:\")\n",
        "print(round((df[\"LastContactDay\"].value_counts()/df.shape[0]),4)*100)"
      ],
      "metadata": {
        "colab": {
          "base_uri": "https://localhost:8080/",
          "height": 1000
        },
        "id": "1_dgKTd3TpMY",
        "outputId": "6fa810f7-74de-4406-9f8a-d2d93a3530b1"
      },
      "execution_count": null,
      "outputs": [
        {
          "output_type": "stream",
          "name": "stderr",
          "text": [
            "<ipython-input-18-3161412ddd26>:2: FutureWarning: \n",
            "\n",
            "Passing `palette` without assigning `hue` is deprecated and will be removed in v0.14.0. Assign the `x` variable to `hue` and set `legend=False` for the same effect.\n",
            "\n",
            "  sns.countplot(x=\"LastContactDay\" , data=df ,palette='icefire')\n"
          ]
        },
        {
          "output_type": "display_data",
          "data": {
            "text/plain": [
              "<Figure size 1000x400 with 1 Axes>"
            ],
            "image/png": "[encoded data removed]"
          },
          "metadata": {}
        },
        {
          "output_type": "stream",
          "name": "stdout",
          "text": [
            "% of total:\n",
            "18    5.08\n",
            "20    4.90\n",
            "13    4.28\n",
            "30    4.18\n",
            "15    4.12\n",
            "17    4.08\n",
            "19    3.95\n",
            "8     3.95\n",
            "7     3.92\n",
            "21    3.90\n",
            "5     3.80\n",
            "12    3.75\n",
            "6     3.62\n",
            "29    3.55\n",
            "2     3.45\n",
            "4     3.40\n",
            "28    3.40\n",
            "11    3.38\n",
            "9     3.22\n",
            "14    3.18\n",
            "16    3.12\n",
            "27    2.55\n",
            "26    2.45\n",
            "25    2.35\n",
            "3     2.32\n",
            "23    2.22\n",
            "22    2.20\n",
            "10    1.80\n",
            "24    1.35\n",
            "31    1.30\n",
            "1     1.22\n",
            "Name: LastContactDay, dtype: float64\n"
          ]
        }
      ]
    },
    {
      "cell_type": "markdown",
      "source": [
        "terlihat bahwa klien paling sering dikontak pada tanggal 18 yaitu sebanyak 5,08% dan paling sedikit pada tanggal 1."
      ],
      "metadata": {
        "id": "WuwcmqQlXUOA"
      }
    },
    {
      "cell_type": "code",
      "source": [
        "plt.figure(figsize=(10,4))\n",
        "sns.countplot(x=\"LastContactMonth\" , data=df ,palette='icefire')\n",
        "plt.title(\"LastContactMonth\", fontsize=14)\n",
        "plt.show()\n",
        "print(\"% of total:\")\n",
        "print(round((df[\"LastContactMonth\"].value_counts()/df.shape[0]),4)*100)"
      ],
      "metadata": {
        "colab": {
          "base_uri": "https://localhost:8080/",
          "height": 761
        },
        "id": "VFB2eJ32TpRZ",
        "outputId": "3641f333-4880-4a85-a282-72ffd4df2e1f"
      },
      "execution_count": null,
      "outputs": [
        {
          "output_type": "stream",
          "name": "stderr",
          "text": [
            "<ipython-input-19-af880e47f4a2>:2: FutureWarning: \n",
            "\n",
            "Passing `palette` without assigning `hue` is deprecated and will be removed in v0.14.0. Assign the `x` variable to `hue` and set `legend=False` for the same effect.\n",
            "\n",
            "  sns.countplot(x=\"LastContactMonth\" , data=df ,palette='icefire')\n"
          ]
        },
        {
          "output_type": "display_data",
          "data": {
            "text/plain": [
              "<Figure size 1000x400 with 1 Axes>"
            ],
            "image/png": "[encoded data removed]"
          },
          "metadata": {}
        },
        {
          "output_type": "stream",
          "name": "stdout",
          "text": [
            "% of total:\n",
            "may    26.22\n",
            "jul    14.32\n",
            "aug    13.40\n",
            "jun    11.35\n",
            "nov     8.67\n",
            "apr     7.65\n",
            "feb     6.55\n",
            "jan     3.35\n",
            "oct     2.95\n",
            "sep     2.53\n",
            "mar     1.98\n",
            "dec     1.02\n",
            "Name: LastContactMonth, dtype: float64\n"
          ]
        }
      ]
    },
    {
      "cell_type": "markdown",
      "source": [
        "terlihat bahwa klien paling banyak dihubungi pada bulan may dan paling sedikit pada bulan desember"
      ],
      "metadata": {
        "id": "KDYKhJwKU1od"
      }
    },
    {
      "cell_type": "markdown",
      "source": [
        "#### **Visualisasi data numeric**"
      ],
      "metadata": {
        "id": "nHNM2QMdU3uA"
      }
    },
    {
      "cell_type": "code",
      "source": [
        "plt.hist(df['Age'], bins=50, color='blue', edgecolor='black')\n",
        "plt.xlabel('Age')\n",
        "plt.ylabel('Frequency')\n",
        "plt.title('Histogram of Age')\n",
        "plt.show()"
      ],
      "metadata": {
        "colab": {
          "base_uri": "https://localhost:8080/",
          "height": 472
        },
        "id": "hzz0jzccTpT0",
        "outputId": "4a59ccec-304b-4c22-a889-d11fc261b5f5"
      },
      "execution_count": null,
      "outputs": [
        {
          "output_type": "display_data",
          "data": {
            "text/plain": [
              "<Figure size 640x480 with 1 Axes>"
            ],
            "image/png": "[encoded data removed]"
          },
          "metadata": {}
        }
      ]
    },
    {
      "cell_type": "markdown",
      "source": [
        "pada histogram tersebut terlihat bahwa umur klien rata-rata paling banyak berada pada usia 30an dengan frekuensi 340"
      ],
      "metadata": {
        "id": "JWoxtTLrU7Cu"
      }
    },
    {
      "cell_type": "code",
      "source": [
        "plt.hist(df['Balance'], bins=80, color='blue', edgecolor='black')\n",
        "plt.xlabel('Balance')\n",
        "plt.ylabel('Frequency')\n",
        "plt.title('Histogram of Balance')\n",
        "plt.show()"
      ],
      "metadata": {
        "colab": {
          "base_uri": "https://localhost:8080/",
          "height": 472
        },
        "id": "ueyMxm87TpWb",
        "outputId": "990be122-a7f8-4ae7-f47f-a5ae8e9a6ecf"
      },
      "execution_count": null,
      "outputs": [
        {
          "output_type": "display_data",
          "data": {
            "text/plain": [
              "<Figure size 640x480 with 1 Axes>"
            ],
            "image/png": "[encoded data removed]"
          },
          "metadata": {}
        }
      ]
    },
    {
      "cell_type": "markdown",
      "source": [
        "disini terlihat bahwa balance (saldo) klient kebanyakan <20000 USD dan kemungkinan disini terdapat outlier"
      ],
      "metadata": {
        "id": "ht-Kden_U-jv"
      }
    },
    {
      "cell_type": "code",
      "source": [
        "plt.hist(df['NoOfContacts'], bins=80, color='blue', edgecolor='black')\n",
        "plt.xlabel('NoOfContacts')\n",
        "plt.ylabel('Frequency')\n",
        "plt.title('Histogram of NoOfContacts')\n",
        "plt.show()"
      ],
      "metadata": {
        "colab": {
          "base_uri": "https://localhost:8080/",
          "height": 472
        },
        "id": "NChafeTYTpZ7",
        "outputId": "878e3118-5c07-4aeb-cff7-b24ff2551143"
      },
      "execution_count": null,
      "outputs": [
        {
          "output_type": "display_data",
          "data": {
            "text/plain": [
              "<Figure size 640x480 with 1 Axes>"
            ],
            "image/png": "[encoded data removed]"
          },
          "metadata": {}
        }
      ]
    },
    {
      "cell_type": "markdown",
      "source": [
        "disini terlihat bahwa kontak dengan klien paling sering dilakukan sebanyak 1 kali dengan frekuensi sebesar >1600"
      ],
      "metadata": {
        "id": "psch5UBaVDK3"
      }
    },
    {
      "cell_type": "code",
      "source": [
        "plt.hist(df['DaysPassed'], bins=50, color='blue', edgecolor='black')\n",
        "plt.xlabel('DaysPassed')\n",
        "plt.ylabel('Frequency')\n",
        "plt.title('Histogram of DaysPassed')\n",
        "plt.show()"
      ],
      "metadata": {
        "colab": {
          "base_uri": "https://localhost:8080/",
          "height": 472
        },
        "id": "E2n2iEngVFg9",
        "outputId": "46654096-0abc-43f4-bcd8-903f913fedd9"
      },
      "execution_count": null,
      "outputs": [
        {
          "output_type": "display_data",
          "data": {
            "text/plain": [
              "<Figure size 640x480 with 1 Axes>"
            ],
            "image/png": "[encoded data removed]"
          },
          "metadata": {}
        }
      ]
    },
    {
      "cell_type": "markdown",
      "source": [
        "disini terlihat bahwa hari yang berlalu sejak panggilan terakhir paling banyak selama <100 hari."
      ],
      "metadata": {
        "id": "l8v55kGKVKUv"
      }
    },
    {
      "cell_type": "code",
      "source": [
        "plt.hist(df['PrevAttempts'], bins=50, color='blue', edgecolor='black')\n",
        "plt.xlabel('PrevAttempts')\n",
        "plt.ylabel('Frequency')\n",
        "plt.title('Histogram of PrevAttempts')\n",
        "plt.show()"
      ],
      "metadata": {
        "colab": {
          "base_uri": "https://localhost:8080/",
          "height": 472
        },
        "id": "90BiQY2oVFjn",
        "outputId": "fb406653-f65a-4518-967e-9bff0da83e70"
      },
      "execution_count": null,
      "outputs": [
        {
          "output_type": "display_data",
          "data": {
            "text/plain": [
              "<Figure size 640x480 with 1 Axes>"
            ],
            "image/png": "[encoded data removed]"
          },
          "metadata": {}
        }
      ]
    },
    {
      "cell_type": "markdown",
      "source": [
        "disini terlihat jumlah upaya kontak yang dilakukan paling banyak dilakukan sekitar 1 kali dengan frekuensi >3000."
      ],
      "metadata": {
        "id": "gvQg6vX0VOEx"
      }
    },
    {
      "cell_type": "markdown",
      "source": [
        "### **2. DATA PREPOCESSING**"
      ],
      "metadata": {
        "id": "0_uEYoMkVQQf"
      }
    },
    {
      "cell_type": "markdown",
      "source": [
        "#### **Outlier**"
      ],
      "metadata": {
        "id": "4tIJOJlKVUmw"
      }
    },
    {
      "cell_type": "code",
      "source": [
        "for cat in ['Age','Balance','NoOfContacts','PrevAttempts','DaysPassed']:\n",
        "    plt.figure(figsize=(8,1))\n",
        "    sns.boxplot(data=df, x=cat,palette='Blues')\n"
      ],
      "metadata": {
        "colab": {
          "base_uri": "https://localhost:8080/",
          "height": 1000
        },
        "id": "M1tFK2qRVFml",
        "outputId": "358f67f7-015f-4a0e-99f2-7be0c5b4065d"
      },
      "execution_count": null,
      "outputs": [
        {
          "output_type": "stream",
          "name": "stderr",
          "text": [
            "<ipython-input-25-63479b40b478>:3: FutureWarning: \n",
            "\n",
            "Passing `palette` without assigning `hue` is deprecated and will be removed in v0.14.0. Assign the `y` variable to `hue` and set `legend=False` for the same effect.\n",
            "\n",
            "  sns.boxplot(data=df, x=cat,palette='Blues')\n",
            "<ipython-input-25-63479b40b478>:3: FutureWarning: \n",
            "\n",
            "Passing `palette` without assigning `hue` is deprecated and will be removed in v0.14.0. Assign the `y` variable to `hue` and set `legend=False` for the same effect.\n",
            "\n",
            "  sns.boxplot(data=df, x=cat,palette='Blues')\n",
            "<ipython-input-25-63479b40b478>:3: FutureWarning: \n",
            "\n",
            "Passing `palette` without assigning `hue` is deprecated and will be removed in v0.14.0. Assign the `y` variable to `hue` and set `legend=False` for the same effect.\n",
            "\n",
            "  sns.boxplot(data=df, x=cat,palette='Blues')\n",
            "<ipython-input-25-63479b40b478>:3: FutureWarning: \n",
            "\n",
            "Passing `palette` without assigning `hue` is deprecated and will be removed in v0.14.0. Assign the `y` variable to `hue` and set `legend=False` for the same effect.\n",
            "\n",
            "  sns.boxplot(data=df, x=cat,palette='Blues')\n",
            "<ipython-input-25-63479b40b478>:3: FutureWarning: \n",
            "\n",
            "Passing `palette` without assigning `hue` is deprecated and will be removed in v0.14.0. Assign the `y` variable to `hue` and set `legend=False` for the same effect.\n",
            "\n",
            "  sns.boxplot(data=df, x=cat,palette='Blues')\n"
          ]
        },
        {
          "output_type": "display_data",
          "data": {
            "text/plain": [
              "<Figure size 800x100 with 1 Axes>"
            ],
            "image/png": "[encoded data removed]"
          },
          "metadata": {}
        },
        {
          "output_type": "display_data",
          "data": {
            "text/plain": [
              "<Figure size 800x100 with 1 Axes>"
            ],
            "image/png": "[encoded data removed]"
          },
          "metadata": {}
        },
        {
          "output_type": "display_data",
          "data": {
            "text/plain": [
              "<Figure size 800x100 with 1 Axes>"
            ],
            "image/png": "[encoded data removed]"
          },
          "metadata": {}
        },
        {
          "output_type": "display_data",
          "data": {
            "text/plain": [
              "<Figure size 800x100 with 1 Axes>"
            ],
            "image/png": "[encoded data removed]"
          },
          "metadata": {}
        },
        {
          "output_type": "display_data",
          "data": {
            "text/plain": [
              "<Figure size 800x100 with 1 Axes>"
            ],
            "image/png": "[encoded data removed]"
          },
          "metadata": {}
        }
      ]
    },
    {
      "cell_type": "markdown",
      "source": [
        "berdasarkan boxplot diatas, terlihat tardapat nilai ekstrem atau outlier pada variabel 'Age' dan 'Balance'. maka kita perlu menghandle outlier ini\n",
        "\n"
      ],
      "metadata": {
        "id": "n6Fuh0pYVYtI"
      }
    },
    {
      "cell_type": "code",
      "source": [
        "for cat in ['Age','Balance']:\n",
        "    Q3, Q1 = np.percentile(df[cat], [75, 25])\n",
        "    print('___________________________________________________')\n",
        "    print(cat)\n",
        "    print('___________________________________________________')\n",
        "    print('Q1=',Q1)\n",
        "    print('Q3=',Q3)\n",
        "    IQR = Q3 - Q1\n",
        "    print('IQR:',IQR)\n",
        "    print('Interval:[', df[cat].mean() - 3*IQR,'&',df[cat].mean() + 3*IQR,']')\n",
        "    print('min=',df[cat].min())\n",
        "    print('max=',df[cat].max())\n",
        "\n",
        "    n=((df[cat]>= (df[cat].mean() + 3*IQR)).sum())\n",
        "    m=((df[cat]<= (df[cat].mean() - 3)).sum())\n",
        "    print('pecentage of outliers(max):',n/df.shape[0])\n",
        "    print('pecentage of outliers(min):',m/df.shape[0])"
      ],
      "metadata": {
        "colab": {
          "base_uri": "https://localhost:8080/"
        },
        "id": "llwfvHXkVFpY",
        "outputId": "4cea8b6f-3685-4a6a-b653-34c944d2477a"
      },
      "execution_count": null,
      "outputs": [
        {
          "output_type": "stream",
          "name": "stdout",
          "text": [
            "___________________________________________________\n",
            "Age\n",
            "___________________________________________________\n",
            "Q1= 32.0\n",
            "Q3= 49.0\n",
            "IQR: 17.0\n",
            "Interval:[ -9.785249999999998 & 92.21475000000001 ]\n",
            "min= 18\n",
            "max= 95\n",
            "pecentage of outliers(max): 0.00025\n",
            "pecentage of outliers(min): 0.48625\n",
            "___________________________________________________\n",
            "Balance\n",
            "___________________________________________________\n",
            "Q1= 111.0\n",
            "Q3= 1619.0\n",
            "IQR: 1508.0\n",
            "Interval:[ -2991.06275 & 6056.93725 ]\n",
            "min= -3058\n",
            "max= 98417\n",
            "pecentage of outliers(max): 0.05225\n",
            "pecentage of outliers(min): 0.74075\n"
          ]
        }
      ]
    },
    {
      "cell_type": "markdown",
      "source": [
        "* berdasarkan hasil diatas terlihat bahwa klien yang lebih tua dari 92 tahun dianggap sebagai outlier. maka klien yang umurnya lebih tua dari 92 tahun akan dihapus.\n",
        "* data rata-rata saldo tahunan cenderung condong karena terdapat banyak nilai ekstrim. Oleh karena itu, kita akan menghapus nilai-nilai yang tidak termasuk dalam interval ini -2991 sampai 6056.\n"
      ],
      "metadata": {
        "id": "_5SXePUVVcvZ"
      }
    },
    {
      "cell_type": "code",
      "source": [
        "df_rmout=df\n",
        "\n",
        "df_rmout=df_rmout[(df_rmout.Age < 92)]\n",
        "percentage_rm=(df.shape[0]-df_rmout.shape[0])/df.shape[0]\n",
        "print('the percentage of removed data:',(percentage_rm*100))\n",
        "\n",
        "df_rmout2=df_rmout\n",
        "df_rmout2=df_rmout2[(df_rmout2.Balance <= 6056.93725)&(df_rmout2.Balance > -2991.06275)]\n",
        "percentage_rm=(df.shape[0]-df_rmout2.shape[0])/df.shape[0]\n",
        "print('the percentage of removed data:',(percentage_rm*100))\n",
        "\n",
        "\n",
        "df_rmout=df_rmout[(df_rmout.Balance <df_rmout.Balance.max())&(df_rmout.Balance>df_rmout.Balance.min() )]\n",
        "df_rmout.shape\n",
        "trdf=df_rmout"
      ],
      "metadata": {
        "colab": {
          "base_uri": "https://localhost:8080/"
        },
        "id": "l3GJUpKlVFr_",
        "outputId": "ec6aef59-50b0-43b9-ecbc-1f3a7c3a3f96"
      },
      "execution_count": null,
      "outputs": [
        {
          "output_type": "stream",
          "name": "stdout",
          "text": [
            "the percentage of removed data: 0.05\n",
            "the percentage of removed data: 5.3\n"
          ]
        }
      ]
    },
    {
      "cell_type": "markdown",
      "source": [
        "setelah dilakukan handling outlier, maka data age terdapat 0,05% dihapus karena memiliki outlier. dan untuk data balance sebanyak 5,3%.\n"
      ],
      "metadata": {
        "id": "gVgKje_pVid9"
      }
    },
    {
      "cell_type": "code",
      "source": [
        "for cat in ['Age','Balance']:\n",
        "    plt.figure(figsize=(10,1))\n",
        "    sns.boxplot(data=df_rmout, x=cat,palette='Blues')"
      ],
      "metadata": {
        "colab": {
          "base_uri": "https://localhost:8080/",
          "height": 491
        },
        "id": "N9wdYnnuVFu2",
        "outputId": "da9454f4-012d-4268-8d29-7f68024f972d"
      },
      "execution_count": null,
      "outputs": [
        {
          "output_type": "stream",
          "name": "stderr",
          "text": [
            "<ipython-input-28-778955e691d8>:3: FutureWarning: \n",
            "\n",
            "Passing `palette` without assigning `hue` is deprecated and will be removed in v0.14.0. Assign the `y` variable to `hue` and set `legend=False` for the same effect.\n",
            "\n",
            "  sns.boxplot(data=df_rmout, x=cat,palette='Blues')\n",
            "<ipython-input-28-778955e691d8>:3: FutureWarning: \n",
            "\n",
            "Passing `palette` without assigning `hue` is deprecated and will be removed in v0.14.0. Assign the `y` variable to `hue` and set `legend=False` for the same effect.\n",
            "\n",
            "  sns.boxplot(data=df_rmout, x=cat,palette='Blues')\n"
          ]
        },
        {
          "output_type": "display_data",
          "data": {
            "text/plain": [
              "<Figure size 1000x100 with 1 Axes>"
            ],
            "image/png": "[encoded data removed]"
          },
          "metadata": {}
        },
        {
          "output_type": "display_data",
          "data": {
            "text/plain": [
              "<Figure size 1000x100 with 1 Axes>"
            ],
            "image/png": "[encoded data removed]"
          },
          "metadata": {}
        }
      ]
    },
    {
      "cell_type": "markdown",
      "source": [
        "dari plot diatas terlihat setelah dilakukan penghapusan missing value maka pada data 'Age' dan 'balance' tidak terdapat outlier lagi."
      ],
      "metadata": {
        "id": "VSKnMMCpVoKC"
      }
    },
    {
      "cell_type": "markdown",
      "source": [
        "#### **Mengubah tipe data pada atribut CallStart dan CallEnd menjadi datetime**"
      ],
      "metadata": {
        "id": "UkL7tpQqVsLf"
      }
    },
    {
      "cell_type": "code",
      "source": [
        "import datetime as dt\n",
        "df['CallStart'] = pd.to_datetime(df['CallStart'])\n",
        "df['CallEnd'] = pd.to_datetime(df['CallEnd'])\n",
        "df.info()"
      ],
      "metadata": {
        "colab": {
          "base_uri": "https://localhost:8080/"
        },
        "id": "nqBRtxxaVFxN",
        "outputId": "2a871e09-80ea-49e3-c43c-829cc82521d9"
      },
      "execution_count": null,
      "outputs": [
        {
          "output_type": "stream",
          "name": "stdout",
          "text": [
            "<class 'pandas.core.frame.DataFrame'>\n",
            "RangeIndex: 4000 entries, 0 to 3999\n",
            "Data columns (total 18 columns):\n",
            " #   Column            Non-Null Count  Dtype         \n",
            "---  ------            --------------  -----         \n",
            " 0   Age               4000 non-null   int64         \n",
            " 1   Job               3981 non-null   object        \n",
            " 2   Marital           4000 non-null   object        \n",
            " 3   Education         3831 non-null   object        \n",
            " 4   Default           4000 non-null   int64         \n",
            " 5   Balance           4000 non-null   int64         \n",
            " 6   HHInsurance       4000 non-null   int64         \n",
            " 7   CarLoan           4000 non-null   int64         \n",
            " 8   Communication     3098 non-null   object        \n",
            " 9   LastContactDay    4000 non-null   int64         \n",
            " 10  LastContactMonth  4000 non-null   object        \n",
            " 11  NoOfContacts      4000 non-null   int64         \n",
            " 12  DaysPassed        4000 non-null   int64         \n",
            " 13  PrevAttempts      4000 non-null   int64         \n",
            " 14  Outcome           958 non-null    object        \n",
            " 15  CallStart         4000 non-null   datetime64[ns]\n",
            " 16  CallEnd           4000 non-null   datetime64[ns]\n",
            " 17  CarInsurance      4000 non-null   int64         \n",
            "dtypes: datetime64[ns](2), int64(10), object(6)\n",
            "memory usage: 562.6+ KB\n"
          ]
        }
      ]
    },
    {
      "cell_type": "markdown",
      "source": [
        "Terlihat bahwa tipe data pada CallStart dan CallEnd telah berubah menjadi datetime"
      ],
      "metadata": {
        "id": "AQ74gaxPVvvZ"
      }
    },
    {
      "cell_type": "markdown",
      "source": [
        "#### **Membuat kolom baru bernama \"call_time\"**"
      ],
      "metadata": {
        "id": "9GpPu6UkVy9E"
      }
    },
    {
      "cell_type": "code",
      "source": [
        "df[\"call_time\"] = df[\"CallEnd\"]  - df[\"CallStart\"]\n",
        "df[\"call_time\"] = df[\"call_time\"].dt.components[\"minutes\"]*60 + df[\"call_time\"].dt.components[\"seconds\"]\n",
        "df.head()"
      ],
      "metadata": {
        "colab": {
          "base_uri": "https://localhost:8080/",
          "height": 400
        },
        "id": "_U7UGW6KVFz_",
        "outputId": "21d44e12-dcef-45fd-c69c-17186dfa7230"
      },
      "execution_count": null,
      "outputs": [
        {
          "output_type": "execute_result",
          "data": {
            "text/plain": [
              "   Age          Job  Marital Education  Default  Balance  HHInsurance  \\\n",
              "0   32   management   single  tertiary        0     1218            1   \n",
              "1   32  blue-collar  married   primary        0     1156            1   \n",
              "2   29   management   single  tertiary        0      637            1   \n",
              "3   25      student   single   primary        0      373            1   \n",
              "4   30   management  married  tertiary        0     2694            0   \n",
              "\n",
              "   CarLoan Communication  LastContactDay LastContactMonth  NoOfContacts  \\\n",
              "0        0     telephone              28              jan             2   \n",
              "1        0           NaN              26              may             5   \n",
              "2        0      cellular               3              jun             1   \n",
              "3        0      cellular              11              may             2   \n",
              "4        0      cellular               3              jun             1   \n",
              "\n",
              "   DaysPassed  PrevAttempts  Outcome           CallStart             CallEnd  \\\n",
              "0          -1             0      NaN 2024-03-28 13:45:20 2024-03-28 13:46:30   \n",
              "1          -1             0      NaN 2024-03-28 14:49:03 2024-03-28 14:52:08   \n",
              "2         119             1  failure 2024-03-28 16:30:24 2024-03-28 16:36:04   \n",
              "3          -1             0      NaN 2024-03-28 12:06:43 2024-03-28 12:20:22   \n",
              "4          -1             0      NaN 2024-03-28 14:35:44 2024-03-28 14:38:56   \n",
              "\n",
              "   CarInsurance  call_time  \n",
              "0             0         70  \n",
              "1             0        185  \n",
              "2             1        340  \n",
              "3             1        819  \n",
              "4             0        192  "
            ],
            "text/html": [
              "\n",
              "  <div id=\"df-e2d3f251-4e37-4e4a-b87b-6e6c755d9df4\" class=\"colab-df-container\">\n",
              "    <div>\n",
              "<style scoped>\n",
              "    .dataframe tbody tr th:only-of-type {\n",
              "        vertical-align: middle;\n",
              "    }\n",
              "\n",
              "    .dataframe tbody tr th {\n",
              "        vertical-align: top;\n",
              "    }\n",
              "\n",
              "    .dataframe thead th {\n",
              "        text-align: right;\n",
              "    }\n",
              "</style>\n",
              "<table border=\"1\" class=\"dataframe\">\n",
              "  <thead>\n",
              "    <tr style=\"text-align: right;\">\n",
              "      <th></th>\n",
              "      <th>Age</th>\n",
              "      <th>Job</th>\n",
              "      <th>Marital</th>\n",
              "      <th>Education</th>\n",
              "      <th>Default</th>\n",
              "      <th>Balance</th>\n",
              "      <th>HHInsurance</th>\n",
              "      <th>CarLoan</th>\n",
              "      <th>Communication</th>\n",
              "      <th>LastContactDay</th>\n",
              "      <th>LastContactMonth</th>\n",
              "      <th>NoOfContacts</th>\n",
              "      <th>DaysPassed</th>\n",
              "      <th>PrevAttempts</th>\n",
              "      <th>Outcome</th>\n",
              "      <th>CallStart</th>\n",
              "      <th>CallEnd</th>\n",
              "      <th>CarInsurance</th>\n",
              "      <th>call_time</th>\n",
              "    </tr>\n",
              "  </thead>\n",
              "  <tbody>\n",
              "    <tr>\n",
              "      <th>0</th>\n",
              "      <td>32</td>\n",
              "      <td>management</td>\n",
              "      <td>single</td>\n",
              "      <td>tertiary</td>\n",
              "      <td>0</td>\n",
              "      <td>1218</td>\n",
              "      <td>1</td>\n",
              "      <td>0</td>\n",
              "      <td>telephone</td>\n",
              "      <td>28</td>\n",
              "      <td>jan</td>\n",
              "      <td>2</td>\n",
              "      <td>-1</td>\n",
              "      <td>0</td>\n",
              "      <td>NaN</td>\n",
              "      <td>2024-03-28 13:45:20</td>\n",
              "      <td>2024-03-28 13:46:30</td>\n",
              "      <td>0</td>\n",
              "      <td>70</td>\n",
              "    </tr>\n",
              "    <tr>\n",
              "      <th>1</th>\n",
              "      <td>32</td>\n",
              "      <td>blue-collar</td>\n",
              "      <td>married</td>\n",
              "      <td>primary</td>\n",
              "      <td>0</td>\n",
              "      <td>1156</td>\n",
              "      <td>1</td>\n",
              "      <td>0</td>\n",
              "      <td>NaN</td>\n",
              "      <td>26</td>\n",
              "      <td>may</td>\n",
              "      <td>5</td>\n",
              "      <td>-1</td>\n",
              "      <td>0</td>\n",
              "      <td>NaN</td>\n",
              "      <td>2024-03-28 14:49:03</td>\n",
              "      <td>2024-03-28 14:52:08</td>\n",
              "      <td>0</td>\n",
              "      <td>185</td>\n",
              "    </tr>\n",
              "    <tr>\n",
              "      <th>2</th>\n",
              "      <td>29</td>\n",
              "      <td>management</td>\n",
              "      <td>single</td>\n",
              "      <td>tertiary</td>\n",
              "      <td>0</td>\n",
              "      <td>637</td>\n",
              "      <td>1</td>\n",
              "      <td>0</td>\n",
              "      <td>cellular</td>\n",
              "      <td>3</td>\n",
              "      <td>jun</td>\n",
              "      <td>1</td>\n",
              "      <td>119</td>\n",
              "      <td>1</td>\n",
              "      <td>failure</td>\n",
              "      <td>2024-03-28 16:30:24</td>\n",
              "      <td>2024-03-28 16:36:04</td>\n",
              "      <td>1</td>\n",
              "      <td>340</td>\n",
              "    </tr>\n",
              "    <tr>\n",
              "      <th>3</th>\n",
              "      <td>25</td>\n",
              "      <td>student</td>\n",
              "      <td>single</td>\n",
              "      <td>primary</td>\n",
              "      <td>0</td>\n",
              "      <td>373</td>\n",
              "      <td>1</td>\n",
              "      <td>0</td>\n",
              "      <td>cellular</td>\n",
              "      <td>11</td>\n",
              "      <td>may</td>\n",
              "      <td>2</td>\n",
              "      <td>-1</td>\n",
              "      <td>0</td>\n",
              "      <td>NaN</td>\n",
              "      <td>2024-03-28 12:06:43</td>\n",
              "      <td>2024-03-28 12:20:22</td>\n",
              "      <td>1</td>\n",
              "      <td>819</td>\n",
              "    </tr>\n",
              "    <tr>\n",
              "      <th>4</th>\n",
              "      <td>30</td>\n",
              "      <td>management</td>\n",
              "      <td>married</td>\n",
              "      <td>tertiary</td>\n",
              "      <td>0</td>\n",
              "      <td>2694</td>\n",
              "      <td>0</td>\n",
              "      <td>0</td>\n",
              "      <td>cellular</td>\n",
              "      <td>3</td>\n",
              "      <td>jun</td>\n",
              "      <td>1</td>\n",
              "      <td>-1</td>\n",
              "      <td>0</td>\n",
              "      <td>NaN</td>\n",
              "      <td>2024-03-28 14:35:44</td>\n",
              "      <td>2024-03-28 14:38:56</td>\n",
              "      <td>0</td>\n",
              "      <td>192</td>\n",
              "    </tr>\n",
              "  </tbody>\n",
              "</table>\n",
              "</div>\n",
              "    <div class=\"colab-df-buttons\">\n",
              "\n",
              "  <div class=\"colab-df-container\">\n",
              "    <button class=\"colab-df-convert\" onclick=\"convertToInteractive('df-e2d3f251-4e37-4e4a-b87b-6e6c755d9df4')\"\n",
              "            title=\"Convert this dataframe to an interactive table.\"\n",
              "            style=\"display:none;\">\n",
              "\n",
              "  <svg xmlns=\"http://www.w3.org/2000/svg\" height=\"24px\" viewBox=\"0 -960 960 960\">\n",
              "    <path d=\"M120-120v-720h720v720H120Zm60-500h600v-160H180v160Zm220 220h160v-160H400v160Zm0 220h160v-160H400v160ZM180-400h160v-160H180v160Zm440 0h160v-160H620v160ZM180-180h160v-160H180v160Zm440 0h160v-160H620v160Z\"/>\n",
              "  </svg>\n",
              "    </button>\n",
              "\n",
              "  <style>\n",
              "    .colab-df-container {\n",
              "      display:flex;\n",
              "      gap: 12px;\n",
              "    }\n",
              "\n",
              "    .colab-df-convert {\n",
              "      background-color: #E8F0FE;\n",
              "      border: none;\n",
              "      border-radius: 50%;\n",
              "      cursor: pointer;\n",
              "      display: none;\n",
              "      fill: #1967D2;\n",
              "      height: 32px;\n",
              "      padding: 0 0 0 0;\n",
              "      width: 32px;\n",
              "    }\n",
              "\n",
              "    .colab-df-convert:hover {\n",
              "      background-color: #E2EBFA;\n",
              "      box-shadow: 0px 1px 2px rgba(60, 64, 67, 0.3), 0px 1px 3px 1px rgba(60, 64, 67, 0.15);\n",
              "      fill: #174EA6;\n",
              "    }\n",
              "\n",
              "    .colab-df-buttons div {\n",
              "      margin-bottom: 4px;\n",
              "    }\n",
              "\n",
              "    [theme=dark] .colab-df-convert {\n",
              "      background-color: #3B4455;\n",
              "      fill: #D2E3FC;\n",
              "    }\n",
              "\n",
              "    [theme=dark] .colab-df-convert:hover {\n",
              "      background-color: #434B5C;\n",
              "      box-shadow: 0px 1px 3px 1px rgba(0, 0, 0, 0.15);\n",
              "      filter: drop-shadow(0px 1px 2px rgba(0, 0, 0, 0.3));\n",
              "      fill: #FFFFFF;\n",
              "    }\n",
              "  </style>\n",
              "\n",
              "    <script>\n",
              "      const buttonEl =\n",
              "        document.querySelector('#df-e2d3f251-4e37-4e4a-b87b-6e6c755d9df4 button.colab-df-convert');\n",
              "      buttonEl.style.display =\n",
              "        google.colab.kernel.accessAllowed ? 'block' : 'none';\n",
              "\n",
              "      async function convertToInteractive(key) {\n",
              "        const element = document.querySelector('#df-e2d3f251-4e37-4e4a-b87b-6e6c755d9df4');\n",
              "        const dataTable =\n",
              "          await google.colab.kernel.invokeFunction('convertToInteractive',\n",
              "                                                    [key], {});\n",
              "        if (!dataTable) return;\n",
              "\n",
              "        const docLinkHtml = 'Like what you see? Visit the ' +\n",
              "          '<a target=\"_blank\" href=https://colab.research.google.com/notebooks/data_table.ipynb>data table notebook</a>'\n",
              "          + ' to learn more about interactive tables.';\n",
              "        element.innerHTML = '';\n",
              "        dataTable['output_type'] = 'display_data';\n",
              "        await google.colab.output.renderOutput(dataTable, element);\n",
              "        const docLink = document.createElement('div');\n",
              "        docLink.innerHTML = docLinkHtml;\n",
              "        element.appendChild(docLink);\n",
              "      }\n",
              "    </script>\n",
              "  </div>\n",
              "\n",
              "\n",
              "<div id=\"df-115abcc0-55ef-42a4-b2d9-dcf0139ed8a8\">\n",
              "  <button class=\"colab-df-quickchart\" onclick=\"quickchart('df-115abcc0-55ef-42a4-b2d9-dcf0139ed8a8')\"\n",
              "            title=\"Suggest charts\"\n",
              "            style=\"display:none;\">\n",
              "\n",
              "<svg xmlns=\"http://www.w3.org/2000/svg\" height=\"24px\"viewBox=\"0 0 24 24\"\n",
              "     width=\"24px\">\n",
              "    <g>\n",
              "        <path d=\"M19 3H5c-1.1 0-2 .9-2 2v14c0 1.1.9 2 2 2h14c1.1 0 2-.9 2-2V5c0-1.1-.9-2-2-2zM9 17H7v-7h2v7zm4 0h-2V7h2v10zm4 0h-2v-4h2v4z\"/>\n",
              "    </g>\n",
              "</svg>\n",
              "  </button>\n",
              "\n",
              "<style>\n",
              "  .colab-df-quickchart {\n",
              "      --bg-color: #E8F0FE;\n",
              "      --fill-color: #1967D2;\n",
              "      --hover-bg-color: #E2EBFA;\n",
              "      --hover-fill-color: #174EA6;\n",
              "      --disabled-fill-color: #AAA;\n",
              "      --disabled-bg-color: #DDD;\n",
              "  }\n",
              "\n",
              "  [theme=dark] .colab-df-quickchart {\n",
              "      --bg-color: #3B4455;\n",
              "      --fill-color: #D2E3FC;\n",
              "      --hover-bg-color: #434B5C;\n",
              "      --hover-fill-color: #FFFFFF;\n",
              "      --disabled-bg-color: #3B4455;\n",
              "      --disabled-fill-color: #666;\n",
              "  }\n",
              "\n",
              "  .colab-df-quickchart {\n",
              "    background-color: var(--bg-color);\n",
              "    border: none;\n",
              "    border-radius: 50%;\n",
              "    cursor: pointer;\n",
              "    display: none;\n",
              "    fill: var(--fill-color);\n",
              "    height: 32px;\n",
              "    padding: 0;\n",
              "    width: 32px;\n",
              "  }\n",
              "\n",
              "  .colab-df-quickchart:hover {\n",
              "    background-color: var(--hover-bg-color);\n",
              "    box-shadow: 0 1px 2px rgba(60, 64, 67, 0.3), 0 1px 3px 1px rgba(60, 64, 67, 0.15);\n",
              "    fill: var(--button-hover-fill-color);\n",
              "  }\n",
              "\n",
              "  .colab-df-quickchart-complete:disabled,\n",
              "  .colab-df-quickchart-complete:disabled:hover {\n",
              "    background-color: var(--disabled-bg-color);\n",
              "    fill: var(--disabled-fill-color);\n",
              "    box-shadow: none;\n",
              "  }\n",
              "\n",
              "  .colab-df-spinner {\n",
              "    border: 2px solid var(--fill-color);\n",
              "    border-color: transparent;\n",
              "    border-bottom-color: var(--fill-color);\n",
              "    animation:\n",
              "      spin 1s steps(1) infinite;\n",
              "  }\n",
              "\n",
              "  @keyframes spin {\n",
              "    0% {\n",
              "      border-color: transparent;\n",
              "      border-bottom-color: var(--fill-color);\n",
              "      border-left-color: var(--fill-color);\n",
              "    }\n",
              "    20% {\n",
              "      border-color: transparent;\n",
              "      border-left-color: var(--fill-color);\n",
              "      border-top-color: var(--fill-color);\n",
              "    }\n",
              "    30% {\n",
              "      border-color: transparent;\n",
              "      border-left-color: var(--fill-color);\n",
              "      border-top-color: var(--fill-color);\n",
              "      border-right-color: var(--fill-color);\n",
              "    }\n",
              "    40% {\n",
              "      border-color: transparent;\n",
              "      border-right-color: var(--fill-color);\n",
              "      border-top-color: var(--fill-color);\n",
              "    }\n",
              "    60% {\n",
              "      border-color: transparent;\n",
              "      border-right-color: var(--fill-color);\n",
              "    }\n",
              "    80% {\n",
              "      border-color: transparent;\n",
              "      border-right-color: var(--fill-color);\n",
              "      border-bottom-color: var(--fill-color);\n",
              "    }\n",
              "    90% {\n",
              "      border-color: transparent;\n",
              "      border-bottom-color: var(--fill-color);\n",
              "    }\n",
              "  }\n",
              "</style>\n",
              "\n",
              "  <script>\n",
              "    async function quickchart(key) {\n",
              "      const quickchartButtonEl =\n",
              "        document.querySelector('#' + key + ' button');\n",
              "      quickchartButtonEl.disabled = true;  // To prevent multiple clicks.\n",
              "      quickchartButtonEl.classList.add('colab-df-spinner');\n",
              "      try {\n",
              "        const charts = await google.colab.kernel.invokeFunction(\n",
              "            'suggestCharts', [key], {});\n",
              "      } catch (error) {\n",
              "        console.error('Error during call to suggestCharts:', error);\n",
              "      }\n",
              "      quickchartButtonEl.classList.remove('colab-df-spinner');\n",
              "      quickchartButtonEl.classList.add('colab-df-quickchart-complete');\n",
              "    }\n",
              "    (() => {\n",
              "      let quickchartButtonEl =\n",
              "        document.querySelector('#df-115abcc0-55ef-42a4-b2d9-dcf0139ed8a8 button');\n",
              "      quickchartButtonEl.style.display =\n",
              "        google.colab.kernel.accessAllowed ? 'block' : 'none';\n",
              "    })();\n",
              "  </script>\n",
              "</div>\n",
              "    </div>\n",
              "  </div>\n"
            ],
            "application/vnd.google.colaboratory.intrinsic+json": {
              "type": "dataframe",
              "variable_name": "df",
              "summary": "{\n  \"name\": \"df\",\n  \"rows\": 4000,\n  \"fields\": [\n    {\n      \"column\": \"Age\",\n      \"properties\": {\n        \"dtype\": \"number\",\n        \"std\": 11,\n        \"min\": 18,\n        \"max\": 95,\n        \"num_unique_values\": 70,\n        \"samples\": [\n          42,\n          32,\n          20\n        ],\n        \"semantic_type\": \"\",\n        \"description\": \"\"\n      }\n    },\n    {\n      \"column\": \"Job\",\n      \"properties\": {\n        \"dtype\": \"category\",\n        \"num_unique_values\": 11,\n        \"samples\": [\n          \"services\",\n          \"management\",\n          \"entrepreneur\"\n        ],\n        \"semantic_type\": \"\",\n        \"description\": \"\"\n      }\n    },\n    {\n      \"column\": \"Marital\",\n      \"properties\": {\n        \"dtype\": \"category\",\n        \"num_unique_values\": 3,\n        \"samples\": [\n          \"single\",\n          \"married\",\n          \"divorced\"\n        ],\n        \"semantic_type\": \"\",\n        \"description\": \"\"\n      }\n    },\n    {\n      \"column\": \"Education\",\n      \"properties\": {\n        \"dtype\": \"category\",\n        \"num_unique_values\": 3,\n        \"samples\": [\n          \"tertiary\",\n          \"primary\",\n          \"secondary\"\n        ],\n        \"semantic_type\": \"\",\n        \"description\": \"\"\n      }\n    },\n    {\n      \"column\": \"Default\",\n      \"properties\": {\n        \"dtype\": \"number\",\n        \"std\": 0,\n        \"min\": 0,\n        \"max\": 1,\n        \"num_unique_values\": 2,\n        \"samples\": [\n          1,\n          0\n        ],\n        \"semantic_type\": \"\",\n        \"description\": \"\"\n      }\n    },\n    {\n      \"column\": \"Balance\",\n      \"properties\": {\n        \"dtype\": \"number\",\n        \"std\": 3511,\n        \"min\": -3058,\n        \"max\": 98417,\n        \"num_unique_values\": 2178,\n        \"samples\": [\n          1297,\n          50\n        ],\n        \"semantic_type\": \"\",\n        \"description\": \"\"\n      }\n    },\n    {\n      \"column\": \"HHInsurance\",\n      \"properties\": {\n        \"dtype\": \"number\",\n        \"std\": 0,\n        \"min\": 0,\n        \"max\": 1,\n        \"num_unique_values\": 2,\n        \"samples\": [\n          0,\n          1\n        ],\n        \"semantic_type\": \"\",\n        \"description\": \"\"\n      }\n    },\n    {\n      \"column\": \"CarLoan\",\n      \"properties\": {\n        \"dtype\": \"number\",\n        \"std\": 0,\n        \"min\": 0,\n        \"max\": 1,\n        \"num_unique_values\": 2,\n        \"samples\": [\n          1,\n          0\n        ],\n        \"semantic_type\": \"\",\n        \"description\": \"\"\n      }\n    },\n    {\n      \"column\": \"Communication\",\n      \"properties\": {\n        \"dtype\": \"category\",\n        \"num_unique_values\": 2,\n        \"samples\": [\n          \"cellular\",\n          \"telephone\"\n        ],\n        \"semantic_type\": \"\",\n        \"description\": \"\"\n      }\n    },\n    {\n      \"column\": \"LastContactDay\",\n      \"properties\": {\n        \"dtype\": \"number\",\n        \"std\": 8,\n        \"min\": 1,\n        \"max\": 31,\n        \"num_unique_values\": 31,\n        \"samples\": [\n          10,\n          21\n        ],\n        \"semantic_type\": \"\",\n        \"description\": \"\"\n      }\n    },\n    {\n      \"column\": \"LastContactMonth\",\n      \"properties\": {\n        \"dtype\": \"category\",\n        \"num_unique_values\": 12,\n        \"samples\": [\n          \"oct\",\n          \"feb\"\n        ],\n        \"semantic_type\": \"\",\n        \"description\": \"\"\n      }\n    },\n    {\n      \"column\": \"NoOfContacts\",\n      \"properties\": {\n        \"dtype\": \"number\",\n        \"std\": 3,\n        \"min\": 1,\n        \"max\": 43,\n        \"num_unique_values\": 35,\n        \"samples\": [\n          29,\n          9\n        ],\n        \"semantic_type\": \"\",\n        \"description\": \"\"\n      }\n    },\n    {\n      \"column\": \"DaysPassed\",\n      \"properties\": {\n        \"dtype\": \"number\",\n        \"std\": 106,\n        \"min\": -1,\n        \"max\": 854,\n        \"num_unique_values\": 330,\n        \"samples\": [\n          558,\n          495\n        ],\n        \"semantic_type\": \"\",\n        \"description\": \"\"\n      }\n    },\n    {\n      \"column\": \"PrevAttempts\",\n      \"properties\": {\n        \"dtype\": \"number\",\n        \"std\": 2,\n        \"min\": 0,\n        \"max\": 58,\n        \"num_unique_values\": 20,\n        \"samples\": [\n          0,\n          18\n        ],\n        \"semantic_type\": \"\",\n        \"description\": \"\"\n      }\n    },\n    {\n      \"column\": \"Outcome\",\n      \"properties\": {\n        \"dtype\": \"category\",\n        \"num_unique_values\": 3,\n        \"samples\": [\n          \"failure\",\n          \"other\"\n        ],\n        \"semantic_type\": \"\",\n        \"description\": \"\"\n      }\n    },\n    {\n      \"column\": \"CallStart\",\n      \"properties\": {\n        \"dtype\": \"date\",\n        \"min\": \"2024-03-28 09:00:00\",\n        \"max\": \"2024-03-28 17:59:58\",\n        \"num_unique_values\": 3777,\n        \"samples\": [\n          \"2024-03-28 10:11:42\",\n          \"2024-03-28 15:46:52\"\n        ],\n        \"semantic_type\": \"\",\n        \"description\": \"\"\n      }\n    },\n    {\n      \"column\": \"CallEnd\",\n      \"properties\": {\n        \"dtype\": \"date\",\n        \"min\": \"2024-03-28 09:02:20\",\n        \"max\": \"2024-03-28 18:25:31\",\n        \"num_unique_values\": 3764,\n        \"samples\": [\n          \"2024-03-28 17:08:45\",\n          \"2024-03-28 11:54:30\"\n        ],\n        \"semantic_type\": \"\",\n        \"description\": \"\"\n      }\n    },\n    {\n      \"column\": \"CarInsurance\",\n      \"properties\": {\n        \"dtype\": \"number\",\n        \"std\": 0,\n        \"min\": 0,\n        \"max\": 1,\n        \"num_unique_values\": 2,\n        \"samples\": [\n          1,\n          0\n        ],\n        \"semantic_type\": \"\",\n        \"description\": \"\"\n      }\n    },\n    {\n      \"column\": \"call_time\",\n      \"properties\": {\n        \"dtype\": \"number\",\n        \"std\": 342,\n        \"min\": 5,\n        \"max\": 3253,\n        \"num_unique_values\": 1046,\n        \"samples\": [\n          493,\n          392\n        ],\n        \"semantic_type\": \"\",\n        \"description\": \"\"\n      }\n    }\n  ]\n}"
            }
          },
          "metadata": {},
          "execution_count": 30
        }
      ]
    },
    {
      "cell_type": "markdown",
      "source": [
        "pada data diatas terlihat bahwa kolom baru dengan nama 'call_time' telah ditambahkan. dimana kolom ini berfungsi unutk melihat selisih antara 'CallStart' dan 'CallEnd' sehingga dapat diketahui berapa lama panggilan berlangsung.\n"
      ],
      "metadata": {
        "id": "5qg-ZUHqV4Cc"
      }
    },
    {
      "cell_type": "code",
      "source": [
        "print(df.call_time.describe())"
      ],
      "metadata": {
        "colab": {
          "base_uri": "https://localhost:8080/"
        },
        "id": "4doyi0grVF2g",
        "outputId": "09defd80-e5b7-442c-e96a-40892405aeac"
      },
      "execution_count": null,
      "outputs": [
        {
          "output_type": "stream",
          "name": "stdout",
          "text": [
            "count    4000.000000\n",
            "mean      350.844000\n",
            "std       342.236576\n",
            "min         5.000000\n",
            "25%       126.000000\n",
            "50%       232.000000\n",
            "75%       460.000000\n",
            "max      3253.000000\n",
            "Name: call_time, dtype: float64\n"
          ]
        }
      ]
    },
    {
      "cell_type": "code",
      "source": [
        "df.info()"
      ],
      "metadata": {
        "colab": {
          "base_uri": "https://localhost:8080/"
        },
        "id": "rfE3-MvlVF5R",
        "outputId": "1a188aca-ef8a-44d9-c77a-168314770920"
      },
      "execution_count": null,
      "outputs": [
        {
          "output_type": "stream",
          "name": "stdout",
          "text": [
            "<class 'pandas.core.frame.DataFrame'>\n",
            "RangeIndex: 4000 entries, 0 to 3999\n",
            "Data columns (total 19 columns):\n",
            " #   Column            Non-Null Count  Dtype         \n",
            "---  ------            --------------  -----         \n",
            " 0   Age               4000 non-null   int64         \n",
            " 1   Job               3981 non-null   object        \n",
            " 2   Marital           4000 non-null   object        \n",
            " 3   Education         3831 non-null   object        \n",
            " 4   Default           4000 non-null   int64         \n",
            " 5   Balance           4000 non-null   int64         \n",
            " 6   HHInsurance       4000 non-null   int64         \n",
            " 7   CarLoan           4000 non-null   int64         \n",
            " 8   Communication     3098 non-null   object        \n",
            " 9   LastContactDay    4000 non-null   int64         \n",
            " 10  LastContactMonth  4000 non-null   object        \n",
            " 11  NoOfContacts      4000 non-null   int64         \n",
            " 12  DaysPassed        4000 non-null   int64         \n",
            " 13  PrevAttempts      4000 non-null   int64         \n",
            " 14  Outcome           958 non-null    object        \n",
            " 15  CallStart         4000 non-null   datetime64[ns]\n",
            " 16  CallEnd           4000 non-null   datetime64[ns]\n",
            " 17  CarInsurance      4000 non-null   int64         \n",
            " 18  call_time         4000 non-null   int64         \n",
            "dtypes: datetime64[ns](2), int64(11), object(6)\n",
            "memory usage: 593.9+ KB\n"
          ]
        }
      ]
    },
    {
      "cell_type": "code",
      "source": [
        "df.drop(columns=['CallStart', 'CallEnd'], inplace=True)"
      ],
      "metadata": {
        "id": "BiSmEDY9VF7t"
      },
      "execution_count": null,
      "outputs": []
    },
    {
      "cell_type": "markdown",
      "source": [
        "#### **Missing Value**"
      ],
      "metadata": {
        "id": "di20HAYYWFH6"
      }
    },
    {
      "cell_type": "code",
      "source": [
        "df.isnull().sum()"
      ],
      "metadata": {
        "colab": {
          "base_uri": "https://localhost:8080/"
        },
        "id": "L0WyGMCCWGtV",
        "outputId": "8d9a3821-6da4-413f-d49b-45a6f7bca933"
      },
      "execution_count": null,
      "outputs": [
        {
          "output_type": "execute_result",
          "data": {
            "text/plain": [
              "Age                    0\n",
              "Job                   19\n",
              "Marital                0\n",
              "Education            169\n",
              "Default                0\n",
              "Balance                0\n",
              "HHInsurance            0\n",
              "CarLoan                0\n",
              "Communication        902\n",
              "LastContactDay         0\n",
              "LastContactMonth       0\n",
              "NoOfContacts           0\n",
              "DaysPassed             0\n",
              "PrevAttempts           0\n",
              "Outcome             3042\n",
              "CarInsurance           0\n",
              "call_time              0\n",
              "dtype: int64"
            ]
          },
          "metadata": {},
          "execution_count": 34
        }
      ]
    },
    {
      "cell_type": "markdown",
      "source": [
        "terdapat missing value pada atribut job,education, communication, dan outcome"
      ],
      "metadata": {
        "id": "i16SUjCOWIjn"
      }
    },
    {
      "cell_type": "code",
      "source": [
        "null_cols = [\"Job\",\"Education\", \"Communication\", \"Outcome\"]\n",
        "for col in null_cols[:3]:\n",
        "    df[col] = df[col].fillna(df[col].dropna().mode().values[0])"
      ],
      "metadata": {
        "id": "AXwRh1q6VF-n"
      },
      "execution_count": null,
      "outputs": []
    },
    {
      "cell_type": "markdown",
      "source": [
        "pada kode diatas nilai NaN dari 3 kolom pertama yaitu kolom job, education, dan communication diganti dengan nilai modus."
      ],
      "metadata": {
        "id": "rMim8VwlWL5T"
      }
    },
    {
      "cell_type": "code",
      "source": [
        "df[\"Outcome\"] = df[\"Outcome\"].fillna(\"no prevoius contact\")"
      ],
      "metadata": {
        "id": "KEB6Di9VVGCF"
      },
      "execution_count": null,
      "outputs": []
    },
    {
      "cell_type": "markdown",
      "source": [
        "berdasrkan kode diatas, jika ada baris dalam kolom \"Outcome\" yang memiliki nilai yang hilang (NaN), nilai tersebut akan diganti dengan string \"no prevoius contact\""
      ],
      "metadata": {
        "id": "CrZIRuo7WUMh"
      }
    },
    {
      "cell_type": "code",
      "source": [
        "df.isnull().sum()"
      ],
      "metadata": {
        "colab": {
          "base_uri": "https://localhost:8080/"
        },
        "id": "htFx4I6BWSKX",
        "outputId": "69096ed9-1646-4ab3-da9f-d95b91e0d993"
      },
      "execution_count": null,
      "outputs": [
        {
          "output_type": "execute_result",
          "data": {
            "text/plain": [
              "Age                 0\n",
              "Job                 0\n",
              "Marital             0\n",
              "Education           0\n",
              "Default             0\n",
              "Balance             0\n",
              "HHInsurance         0\n",
              "CarLoan             0\n",
              "Communication       0\n",
              "LastContactDay      0\n",
              "LastContactMonth    0\n",
              "NoOfContacts        0\n",
              "DaysPassed          0\n",
              "PrevAttempts        0\n",
              "Outcome             0\n",
              "CarInsurance        0\n",
              "call_time           0\n",
              "dtype: int64"
            ]
          },
          "metadata": {},
          "execution_count": 37
        }
      ]
    },
    {
      "cell_type": "markdown",
      "source": [
        "terlihat bahwa pada dataframe tidak terdapat missing value lagi."
      ],
      "metadata": {
        "id": "kWv6e1AWWY0h"
      }
    },
    {
      "cell_type": "markdown",
      "source": [
        "#### **Mengubah Variabel Categorical ke Numeric**"
      ],
      "metadata": {
        "id": "t9L_Wco0fZND"
      }
    },
    {
      "cell_type": "code",
      "source": [
        "df = pd.get_dummies(df, columns=['Job', 'Marital', 'Education', 'Communication', 'LastContactMonth', 'Outcome'])"
      ],
      "metadata": {
        "id": "U6Mnww94WSGw"
      },
      "execution_count": null,
      "outputs": []
    },
    {
      "cell_type": "markdown",
      "source": [
        "### **3. PEMILIHAN MODEL**\n",
        "\n",
        "pada projek kali ini, karena akan melakukan prediksi pembeli asuransi mobil yang mana hal tersebut masuk ke dalam survived learning maka untuk membangun model prediksi saya memilih model \"Logistic Regression\". hal ini karena model logistic regression relatif sederhana dan mudah dipahami. selain itu, logistic regression adalah pilihan yang baik karena secara alami menghasilkan output dalam bentuk probabilitas, yang dimana di sini saya akan memprediksi probabilitas bahwa seorang pelanggan akan membeli asuransi mobil berdasarkan riwayat pembelian sebelumnya, preferensi, dan faktor-faktor lainnya.\n"
      ],
      "metadata": {
        "id": "vSc2W9pNWQ7a"
      }
    },
    {
      "cell_type": "markdown",
      "source": [
        "#### **Flowchart Alur**"
      ],
      "metadata": {
        "id": "m40wr8PeXsb0"
      }
    },
    {
      "cell_type": "markdown",
      "source": [
        "![Screenshot (1378).png](data:image/png;base64,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)"
      ],
      "metadata": {
        "id": "faMOaC0fXumP"
      }
    },
    {
      "cell_type": "markdown",
      "source": [
        "#### **Arsitektur Logistic Regression**"
      ],
      "metadata": {
        "id": "gXo4jCALXuxD"
      }
    },
    {
      "cell_type": "markdown",
      "source": [
        "![Screenshot (1361).png](data:image/png;base64,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)"
      ],
      "metadata": {
        "id": "b3YUrZutXsvx"
      }
    },
    {
      "cell_type": "markdown",
      "source": [
        "1. Akurasi (Accuracy): Untuk data train, akurasi adalah sekitar 0.817 atau 81.7%, sedangkan untuk data test, akurasi adalah sekitar 0.812 atau 81.2%. Ini menunjukkan bahwa model memiliki tingkat keakuratan yang cukup tinggi dalam memprediksi kelas target pada kedua data train dan test.\n",
        "\n",
        "2. Presisi (Precision): Untuk data train, presisi adalah sekitar 0.807 atau 80.7%, sedangkan untuk data test, presisi adalah sekitar 0.797 atau 79.7%. Ini menunjukkan bahwa dari semua prediksi positif yang dibuat oleh model, sekitar 80.7% (data train) dan 79.7% (data test) adalah benar.\n",
        "\n",
        "3. Recall: Untuk data train, recall adalah sekitar 0.715 atau 71.5%, sedangkan untuk data test, recall adalah sekitar 0.714 atau 71.4%. Recall mengukur kemampuan model dalam mengidentifikasi secara benar semua kasus positif yang ada.\n",
        "\n",
        "4. Skor F1 (F1 Score): F1 score merupakan ukuran rata-rata harmonik antara presisi dan recall. Untuk data train, skor F1 adalah sekitar 0.758, sedangkan untuk data test, skor F1 adalah sekitar 0.753. Skor F1 yang lebih tinggi menunjukkan bahwa model memiliki keseimbangan yang baik antara presisi dan recall.\n",
        "5. Mean Squared Error (MSE) memiliki nilai sebesar 0.188. Nilai MSE yang kecil menunjukkan bahwa model memiliki tingkat kesalahan yang rendah dalam memprediksi nilai target pada masalah regresi.\n",
        "\n",
        "Berdasarkan metrik evaluasi yang diberikan, tidak ada indikasi yang jelas tentang adanya overfitting. Perbedaan antara performa model pada data latih dan data uji relatif kecil, menunjukkan bahwa model cenderung dapat menggeneralisasi dengan baik pada data yang belum pernah dilihat sebelumnya."
      ],
      "metadata": {
        "id": "QlaPqTg1X8lt"
      }
    },
    {
      "cell_type": "markdown",
      "source": [
        "### **4. SPLIT DATASET (TRAIN & TEST)**"
      ],
      "metadata": {
        "id": "O5voDJPxYEAU"
      }
    },
    {
      "cell_type": "code",
      "source": [
        "from sklearn.model_selection import train_test_split\n",
        "\n",
        "# Memisahkan data menjadi data train (75%) dan data test (25%)\n",
        "y = df['CarInsurance']\n",
        "X = df.drop('CarInsurance', axis = 1)\n",
        "X_train, X_test, y_train, y_test = train_test_split(X, y, test_size = 0.25, random_state = 42)"
      ],
      "metadata": {
        "id": "DW3j3RfPVGJ6"
      },
      "execution_count": null,
      "outputs": []
    },
    {
      "cell_type": "markdown",
      "source": [
        "disini saya mengambil kolom 'CarInsurance' dari Dataset sebagai label atau target (y). kemudian mengambil seluruh kolom dari dataset kecuali kolom 'CarInsurance' sebagai fitur (X). Fitur-fitur ini akan digunakan untuk melakukan prediksi terhadap target. selanjutnya mengatur proporsi data train sebesar 75% dari total dataset, sehingga data test akan menjadi 25%."
      ],
      "metadata": {
        "id": "R6ZMBKmqYHKk"
      }
    },
    {
      "cell_type": "markdown",
      "source": [
        "### **5. MEMBANGUN MODEL**"
      ],
      "metadata": {
        "id": "qR5R62-jYK-b"
      }
    },
    {
      "cell_type": "code",
      "source": [
        "from sklearn.linear_model import LogisticRegression\n",
        "from sklearn.metrics import accuracy_score, f1_score, recall_score, precision_score, mean_squared_error\n",
        "from sklearn.model_selection import GridSearchCV"
      ],
      "metadata": {
        "id": "uR9ZJ6dRVGMh"
      },
      "execution_count": null,
      "outputs": []
    },
    {
      "cell_type": "code",
      "source": [
        "# Inisialisasi model regresi logistik\n",
        "lr_model = LogisticRegression(max_iter=10000)"
      ],
      "metadata": {
        "id": "MzDq5y-PZ2cm"
      },
      "execution_count": null,
      "outputs": []
    },
    {
      "cell_type": "markdown",
      "source": [
        "### **6. OPTIMASI HYPERPAREMETER**\n"
      ],
      "metadata": {
        "id": "4JJOMAlAdcPW"
      }
    },
    {
      "cell_type": "markdown",
      "source": [
        "#### **Model 1**"
      ],
      "metadata": {
        "id": "1K6GyuPGxEIg"
      }
    },
    {
      "cell_type": "code",
      "source": [
        "# Daftar hiperparameter yang ingin ditelusuri\n",
        "param_grid = {\n",
        "    'solver': ['liblinear'],\n",
        "    'penalty': ['l2'],\n",
        "    'C': [0.01]\n",
        "}\n",
        "\n",
        "# Membuat objek GridSearchCV\n",
        "lr_grid_search = GridSearchCV(estimator=lr_model, param_grid=param_grid, cv=5, scoring='accuracy', verbose=1, n_jobs=-1)\n",
        "\n",
        "# Melatih model menggunakan data train\n",
        "lr_grid_search.fit(X_train, y_train)\n",
        "\n",
        "# Menampilkan parameter terbaik yang ditemukan oleh GridSearchCV\n",
        "print(\"Best parameters found by GridSearchCV:\")\n",
        "print(lr_grid_search.best_params_)\n",
        "\n",
        "# Membuat model regresi logistik dengan parameter terbaik\n",
        "best_lr_model = lr_grid_search.best_estimator_\n",
        "\n",
        "# Melakukan prediksi pada data train dan data test menggunakan model terbaik\n",
        "y_train_pred = best_lr_model.predict(X_train)\n",
        "y_test_pred = best_lr_model.predict(X_test)\n",
        "\n",
        "# Menghitung dan mencetak skor akurasi, F1-score, recall, precision, dan MSE untuk data train dan data test\n",
        "print('Metrics for the best Logistic Regression model:')\n",
        "print('Accuracy - Train: %.3f, Test: %.3f' % (accuracy_score(y_train, y_train_pred), accuracy_score(y_test, y_test_pred)))\n",
        "print('MSE - Train: %.3f, Test: %.3f' % (mean_squared_error(y_train, y_train_pred), mean_squared_error(y_test, y_test_pred)))"
      ],
      "metadata": {
        "colab": {
          "base_uri": "https://localhost:8080/"
        },
        "id": "WGtM301jZZC0",
        "outputId": "4bda5022-da53-4e98-f58b-30c315382134"
      },
      "execution_count": null,
      "outputs": [
        {
          "output_type": "stream",
          "name": "stdout",
          "text": [
            "Fitting 5 folds for each of 1 candidates, totalling 5 fits\n",
            "Best parameters found by GridSearchCV:\n",
            "{'C': 0.01, 'penalty': 'l2', 'solver': 'liblinear'}\n",
            "Metrics for the best Logistic Regression model:\n",
            "Accuracy - Train: 0.805, Test: 0.795\n",
            "MSE - Train: 0.195, Test: 0.205\n"
          ]
        }
      ]
    },
    {
      "cell_type": "markdown",
      "source": [
        "#### **Model 2**"
      ],
      "metadata": {
        "id": "lmvHR0rZdzhI"
      }
    },
    {
      "cell_type": "code",
      "source": [
        "# Daftar hiperparameter yang ingin ditelusuri\n",
        "param_grid = {\n",
        "    'solver': ['sag'],\n",
        "    'penalty': ['l2'],\n",
        "    'C': [0.1]\n",
        "}\n",
        "\n",
        "# Membuat objek GridSearchCV\n",
        "lr_grid_search = GridSearchCV(estimator=lr_model, param_grid=param_grid, cv=5, scoring='accuracy', verbose=1, n_jobs=-1)\n",
        "\n",
        "# Melatih model menggunakan data train\n",
        "lr_grid_search.fit(X_train, y_train)\n",
        "\n",
        "# Menampilkan parameter terbaik yang ditemukan oleh GridSearchCV\n",
        "print(\"Best parameters found by GridSearchCV:\")\n",
        "print(lr_grid_search.best_params_)\n",
        "\n",
        "# Membuat model regresi logistik dengan parameter terbaik\n",
        "best_lr_model = lr_grid_search.best_estimator_\n",
        "\n",
        "# Melakukan prediksi pada data train dan data test menggunakan model terbaik\n",
        "y_train_pred = best_lr_model.predict(X_train)\n",
        "y_test_pred = best_lr_model.predict(X_test)\n",
        "\n",
        "# Menghitung dan mencetak skor akurasi, F1-score, recall, precision, dan MSE untuk data train dan data test\n",
        "print('Metrics for the best Logistic Regression model:')\n",
        "print('Accuracy - Train: %.3f, Test: %.3f' % (accuracy_score(y_train, y_train_pred), accuracy_score(y_test, y_test_pred)))\n",
        "print('MSE - Train: %.3f, Test: %.3f' % (mean_squared_error(y_train, y_train_pred), mean_squared_error(y_test, y_test_pred)))"
      ],
      "metadata": {
        "colab": {
          "base_uri": "https://localhost:8080/"
        },
        "id": "LVQaXQIWZZGA",
        "outputId": "862aa3db-b6be-482f-dd37-ba05a078f063"
      },
      "execution_count": null,
      "outputs": [
        {
          "output_type": "stream",
          "name": "stdout",
          "text": [
            "Fitting 5 folds for each of 1 candidates, totalling 5 fits\n",
            "Best parameters found by GridSearchCV:\n",
            "{'C': 0.1, 'penalty': 'l2', 'solver': 'sag'}\n",
            "Metrics for the best Logistic Regression model:\n",
            "Accuracy - Train: 0.746, Test: 0.749\n",
            "MSE - Train: 0.254, Test: 0.251\n"
          ]
        }
      ]
    },
    {
      "cell_type": "markdown",
      "source": [
        "#### **Model 3**"
      ],
      "metadata": {
        "id": "iRPPddx2d2RH"
      }
    },
    {
      "cell_type": "code",
      "source": [
        "# Daftar hiperparameter yang ingin ditelusuri\n",
        "param_grid = {\n",
        "    'solver': ['saga'],\n",
        "    'penalty': ['l2'],\n",
        "    'C': [1.0]\n",
        "}\n",
        "\n",
        "# Membuat objek GridSearchCV\n",
        "lr_grid_search = GridSearchCV(estimator=lr_model, param_grid=param_grid, cv=5, scoring='accuracy', verbose=1, n_jobs=-1)\n",
        "\n",
        "# Melatih model menggunakan data train\n",
        "lr_grid_search.fit(X_train, y_train)\n",
        "\n",
        "# Menampilkan parameter terbaik yang ditemukan oleh GridSearchCV\n",
        "print(\"Best parameters found by GridSearchCV:\")\n",
        "print(lr_grid_search.best_params_)\n",
        "\n",
        "# Membuat model regresi logistik dengan parameter terbaik\n",
        "best_lr_model = lr_grid_search.best_estimator_\n",
        "\n",
        "# Melakukan prediksi pada data train dan data test menggunakan model terbaik\n",
        "y_train_pred = best_lr_model.predict(X_train)\n",
        "y_test_pred = best_lr_model.predict(X_test)\n",
        "\n",
        "# Menghitung dan mencetak skor akurasi, F1-score, recall, precision, dan MSE untuk data train dan data test\n",
        "print('Metrics for the best Logistic Regression model:')\n",
        "print('Accuracy - Train: %.3f, Test: %.3f' % (accuracy_score(y_train, y_train_pred), accuracy_score(y_test, y_test_pred)))\n",
        "print('MSE - Train: %.3f, Test: %.3f' % (mean_squared_error(y_train, y_train_pred), mean_squared_error(y_test, y_test_pred)))"
      ],
      "metadata": {
        "colab": {
          "base_uri": "https://localhost:8080/"
        },
        "id": "D8kDHJN-ZZI-",
        "outputId": "e33a59ee-2f26-4727-8003-6fc639bb3706"
      },
      "execution_count": null,
      "outputs": [
        {
          "output_type": "stream",
          "name": "stdout",
          "text": [
            "Fitting 5 folds for each of 1 candidates, totalling 5 fits\n",
            "Best parameters found by GridSearchCV:\n",
            "{'C': 1.0, 'penalty': 'l2', 'solver': 'saga'}\n",
            "Metrics for the best Logistic Regression model:\n",
            "Accuracy - Train: 0.742, Test: 0.745\n",
            "MSE - Train: 0.258, Test: 0.255\n"
          ]
        }
      ]
    },
    {
      "cell_type": "markdown",
      "source": [
        "#### **Model 4**"
      ],
      "metadata": {
        "id": "SMW8japhd5It"
      }
    },
    {
      "cell_type": "code",
      "source": [
        "# Daftar hiperparameter yang ingin ditelusuri\n",
        "param_grid = {\n",
        "    'solver': ['newton-cg'],\n",
        "    'penalty': ['l2'],\n",
        "    'C': [1.0]\n",
        "}\n",
        "\n",
        "# Membuat objek GridSearchCV\n",
        "lr_grid_search = GridSearchCV(estimator=lr_model, param_grid=param_grid, cv=5, scoring='accuracy', verbose=1, n_jobs=-1)\n",
        "\n",
        "# Melatih model menggunakan data train\n",
        "lr_grid_search.fit(X_train, y_train)\n",
        "\n",
        "# Menampilkan parameter terbaik yang ditemukan oleh GridSearchCV\n",
        "print(\"Best parameters found by GridSearchCV:\")\n",
        "print(lr_grid_search.best_params_)\n",
        "\n",
        "# Membuat model regresi logistik dengan parameter terbaik\n",
        "best_lr_model = lr_grid_search.best_estimator_\n",
        "\n",
        "# Melakukan prediksi pada data train dan data test menggunakan model terbaik\n",
        "y_train_pred = best_lr_model.predict(X_train)\n",
        "y_test_pred = best_lr_model.predict(X_test)\n",
        "\n",
        "# Menghitung dan mencetak skor akurasi, F1-score, recall, precision, dan MSE untuk data train dan data test\n",
        "print('Metrics for the best Logistic Regression model:')\n",
        "print('Accuracy - Train: %.3f, Test: %.3f' % (accuracy_score(y_train, y_train_pred), accuracy_score(y_test, y_test_pred)))\n",
        "print('MSE - Train: %.3f, Test: %.3f' % (mean_squared_error(y_train, y_train_pred), mean_squared_error(y_test, y_test_pred)))"
      ],
      "metadata": {
        "colab": {
          "base_uri": "https://localhost:8080/"
        },
        "id": "kv6ZnP9hZZMF",
        "outputId": "f5c43cc3-2288-4bc9-e257-f13189c81e55"
      },
      "execution_count": null,
      "outputs": [
        {
          "output_type": "stream",
          "name": "stdout",
          "text": [
            "Fitting 5 folds for each of 1 candidates, totalling 5 fits\n",
            "Best parameters found by GridSearchCV:\n",
            "{'C': 1.0, 'penalty': 'l2', 'solver': 'newton-cg'}\n",
            "Metrics for the best Logistic Regression model:\n",
            "Accuracy - Train: 0.817, Test: 0.812\n",
            "MSE - Train: 0.183, Test: 0.188\n"
          ]
        }
      ]
    },
    {
      "cell_type": "markdown",
      "source": [
        "#### **Model 5**"
      ],
      "metadata": {
        "id": "iEwr_weqd7u4"
      }
    },
    {
      "cell_type": "code",
      "source": [
        "# Daftar hiperparameter yang ingin ditelusuri\n",
        "param_grid = {\n",
        "    'solver': ['newton-cholesky'],\n",
        "    'penalty': ['l2'],\n",
        "    'C': [10]\n",
        "}\n",
        "\n",
        "# Membuat objek GridSearchCV\n",
        "lr_grid_search = GridSearchCV(estimator=lr_model, param_grid=param_grid, cv=5, scoring='accuracy', verbose=1, n_jobs=-1)\n",
        "\n",
        "# Melatih model menggunakan data train\n",
        "lr_grid_search.fit(X_train, y_train)\n",
        "\n",
        "# Menampilkan parameter terbaik yang ditemukan oleh GridSearchCV\n",
        "print(\"Best parameters found by GridSearchCV:\")\n",
        "print(lr_grid_search.best_params_)\n",
        "\n",
        "# Membuat model regresi logistik dengan parameter terbaik\n",
        "best_lr_model = lr_grid_search.best_estimator_\n",
        "\n",
        "# Melakukan prediksi pada data train dan data test menggunakan model terbaik\n",
        "y_train_pred = best_lr_model.predict(X_train)\n",
        "y_test_pred = best_lr_model.predict(X_test)\n",
        "\n",
        "# Menghitung dan mencetak skor akurasi, F1-score, recall, precision, dan MSE untuk data train dan data test\n",
        "print('Metrics for the best Logistic Regression model:')\n",
        "print('Accuracy - Train: %.3f, Test: %.3f' % (accuracy_score(y_train, y_train_pred), accuracy_score(y_test, y_test_pred)))\n",
        "print('MSE - Train: %.3f, Test: %.3f' % (mean_squared_error(y_train, y_train_pred), mean_squared_error(y_test, y_test_pred)))"
      ],
      "metadata": {
        "colab": {
          "base_uri": "https://localhost:8080/"
        },
        "id": "0OLZslIzZZPR",
        "outputId": "b539b1b2-3b72-4e37-c39b-4d8761b2b007"
      },
      "execution_count": null,
      "outputs": [
        {
          "output_type": "stream",
          "name": "stdout",
          "text": [
            "Fitting 5 folds for each of 1 candidates, totalling 5 fits\n",
            "Best parameters found by GridSearchCV:\n",
            "{'C': 10, 'penalty': 'l2', 'solver': 'newton-cholesky'}\n",
            "Metrics for the best Logistic Regression model:\n",
            "Accuracy - Train: 0.817, Test: 0.813\n",
            "MSE - Train: 0.183, Test: 0.187\n"
          ]
        }
      ]
    },
    {
      "cell_type": "markdown",
      "source": [
        "#### **Model 6**"
      ],
      "metadata": {
        "id": "AD4FSg1Kd-mU"
      }
    },
    {
      "cell_type": "code",
      "source": [
        "# Daftar hiperparameter yang ingin ditelusuri\n",
        "param_grid = {\n",
        "    'solver': ['lbfgs'],\n",
        "    'penalty': ['l2'],\n",
        "    'C': [100]\n",
        "}\n",
        "\n",
        "# Membuat objek GridSearchCV\n",
        "lr_grid_search = GridSearchCV(estimator=lr_model, param_grid=param_grid, cv=5, scoring='accuracy', verbose=1, n_jobs=-1)\n",
        "\n",
        "# Melatih model menggunakan data train\n",
        "lr_grid_search.fit(X_train, y_train)\n",
        "\n",
        "# Menampilkan parameter terbaik yang ditemukan oleh GridSearchCV\n",
        "print(\"Best parameters found by GridSearchCV:\")\n",
        "print(lr_grid_search.best_params_)\n",
        "\n",
        "# Membuat model regresi logistik dengan parameter terbaik\n",
        "best_lr_model = lr_grid_search.best_estimator_\n",
        "\n",
        "# Melakukan prediksi pada data train dan data test menggunakan model terbaik\n",
        "y_train_pred = best_lr_model.predict(X_train)\n",
        "y_test_pred = best_lr_model.predict(X_test)\n",
        "\n",
        "# Menghitung dan mencetak skor akurasi, F1-score, recall, precision, dan MSE untuk data train dan data test\n",
        "print('Metrics for the best Logistic Regression model:')\n",
        "print('Accuracy - Train: %.3f, Test: %.3f' % (accuracy_score(y_train, y_train_pred), accuracy_score(y_test, y_test_pred)))\n",
        "print('MSE - Train: %.3f, Test: %.3f' % (mean_squared_error(y_train, y_train_pred), mean_squared_error(y_test, y_test_pred)))"
      ],
      "metadata": {
        "colab": {
          "base_uri": "https://localhost:8080/"
        },
        "id": "2heOrl6_ZZSE",
        "outputId": "b7569d2f-1bd2-4c11-8f45-1b99e988f95d"
      },
      "execution_count": null,
      "outputs": [
        {
          "output_type": "stream",
          "name": "stdout",
          "text": [
            "Fitting 5 folds for each of 1 candidates, totalling 5 fits\n",
            "Best parameters found by GridSearchCV:\n",
            "{'C': 100, 'penalty': 'l2', 'solver': 'lbfgs'}\n",
            "Metrics for the best Logistic Regression model:\n",
            "Accuracy - Train: 0.819, Test: 0.813\n",
            "MSE - Train: 0.181, Test: 0.187\n"
          ]
        }
      ]
    },
    {
      "cell_type": "markdown",
      "source": [
        "hasil tersebut menunjukkan bahwa kombinasi hyperparameter terbaik yang ditemukan oleh GridSearchCV adalah\n",
        "*   C= 1.0, penalty= 'l2', dan solver= 'newton-cg' dengan error pada data train sebesar 18,3%\tdan data test 18,8%\n",
        "*   C= 10, penalty= 'l2', dan solver= 'newton-cholesky' dengan error pada data train sebesar 18,3%\tdan data test 18,7%\n",
        "*  C= 100, penalty= 'l2', dan solver= 'lbfgs' dengan error pada data train sebesar 18,1%\tdan data test 18,7%\n",
        "\n"
      ],
      "metadata": {
        "id": "D4bvH8dUdhlf"
      }
    },
    {
      "cell_type": "markdown",
      "source": [
        "### **7. FINE TUNING**"
      ],
      "metadata": {
        "id": "wPY1qL7eeBdt"
      }
    },
    {
      "cell_type": "markdown",
      "source": [
        "#### **K-Nearest Neighbors**"
      ],
      "metadata": {
        "id": "6TYLkWlopglL"
      }
    },
    {
      "cell_type": "code",
      "source": [
        "from sklearn.neighbors import KNeighborsRegressor\n",
        "\n",
        "# Inisialisasi model KNN\n",
        "knn_model = KNeighborsRegressor()\n",
        "\n",
        "# Daftar hiperparameter yang ingin ditelusuri\n",
        "param_grid = {\n",
        "    'n_neighbors': [3, 5, 7, 9],\n",
        "    'weights': ['uniform', 'distance'],\n",
        "    'p': [1, 2]  # 1 untuk manhattan_distance, 2 untuk euclidean_distance\n",
        "}\n",
        "\n",
        "# Membuat objek GridSearchCV\n",
        "knn_grid_search = GridSearchCV(estimator=knn_model, param_grid=param_grid, cv=5, scoring='neg_mean_squared_error', verbose=1, n_jobs=-1)\n",
        "\n",
        "# Melatih model menggunakan data train\n",
        "knn_grid_search.fit(X_train, y_train)\n",
        "\n",
        "# Menampilkan parameter terbaik yang ditemukan oleh GridSearchCV\n",
        "print(\"Best parameters found by GridSearchCV:\")\n",
        "print(knn_grid_search.best_params_)\n",
        "\n",
        "# Membuat model KNN dengan parameter terbaik\n",
        "best_knn_model = knn_grid_search.best_estimator_\n",
        "\n",
        "# Melakukan prediksi pada data train dan data test menggunakan model terbaik\n",
        "y_train_pred = best_knn_model.predict(X_train)\n",
        "y_test_pred = best_knn_model.predict(X_test)\n",
        "\n",
        "# Menghitung dan mencetak skor MSE untuk data train dan data test\n",
        "print('Metrics for the best KNN model:')\n",
        "print('MSE - Train: %.3f, Test: %.3f' % (mean_squared_error(y_train, y_train_pred), mean_squared_error(y_test, y_test_pred)))\n"
      ],
      "metadata": {
        "colab": {
          "base_uri": "https://localhost:8080/"
        },
        "id": "0WjufJGlpf6k",
        "outputId": "5004a119-b811-424a-ef16-1426ce16ebf1"
      },
      "execution_count": null,
      "outputs": [
        {
          "output_type": "stream",
          "name": "stdout",
          "text": [
            "Fitting 5 folds for each of 16 candidates, totalling 80 fits\n",
            "Best parameters found by GridSearchCV:\n",
            "{'n_neighbors': 9, 'p': 1, 'weights': 'uniform'}\n",
            "Metrics for the best KNN model:\n",
            "MSE - Train: 0.133, Test: 0.162\n"
          ]
        }
      ]
    },
    {
      "cell_type": "markdown",
      "source": [
        "#### **Decission Tree**"
      ],
      "metadata": {
        "id": "1sap9B_GtsPZ"
      }
    },
    {
      "cell_type": "code",
      "source": [
        "from sklearn.tree import DecisionTreeRegressor\n",
        "\n",
        "# Inisialisasi model Decision Tree Regression\n",
        "dt_model = DecisionTreeRegressor()\n",
        "\n",
        "# Daftar hiperparameter yang ingin ditelusuri\n",
        "param_grid = {\n",
        "    'max_depth': [10,5],\n",
        "    'min_samples_split': [2, 5, 10],\n",
        "    'min_samples_leaf': [4,2]\n",
        "}\n",
        "\n",
        "# Membuat objek GridSearchCV\n",
        "dt_grid_search = GridSearchCV(estimator=dt_model, param_grid=param_grid, cv=5, scoring='neg_mean_squared_error', verbose=1, n_jobs=-1)\n",
        "\n",
        "# Melatih model menggunakan data train\n",
        "dt_grid_search.fit(X_train, y_train)\n",
        "\n",
        "# Menampilkan parameter terbaik yang ditemukan oleh GridSearchCV\n",
        "print(\"Best parameters found by GridSearchCV:\")\n",
        "print(dt_grid_search.best_params_)\n",
        "\n",
        "# Membuat model Decision Tree Regression dengan parameter terbaik\n",
        "best_dt_model = dt_grid_search.best_estimator_\n",
        "\n",
        "# Melakukan prediksi pada data train dan data test menggunakan model terbaik\n",
        "y_train_pred = best_dt_model.predict(X_train)\n",
        "y_test_pred = best_dt_model.predict(X_test)\n",
        "\n",
        "# Menghitung dan mencetak skor MSE untuk data train dan data test\n",
        "print('Metrics for the best Decision Tree Regression model:')\n",
        "print('MSE - Train: %.3f, Test: %.3f' % (mean_squared_error(y_train, y_train_pred), mean_squared_error(y_test, y_test_pred)))\n"
      ],
      "metadata": {
        "colab": {
          "base_uri": "https://localhost:8080/"
        },
        "id": "4tqsYeIDsBzJ",
        "outputId": "d5eb4c08-f443-4b46-a176-64cfd97ac54d"
      },
      "execution_count": null,
      "outputs": [
        {
          "output_type": "stream",
          "name": "stdout",
          "text": [
            "Fitting 5 folds for each of 12 candidates, totalling 60 fits\n",
            "Best parameters found by GridSearchCV:\n",
            "{'max_depth': 5, 'min_samples_leaf': 2, 'min_samples_split': 10}\n",
            "Metrics for the best Decision Tree Regression model:\n",
            "MSE - Train: 0.126, Test: 0.148\n"
          ]
        }
      ]
    },
    {
      "cell_type": "markdown",
      "source": [
        "#### **Random Forest**"
      ],
      "metadata": {
        "id": "7f_p5Ycvtx6n"
      }
    },
    {
      "cell_type": "code",
      "source": [
        "from sklearn.ensemble import RandomForestRegressor\n",
        "\n",
        "# Inisialisasi model Random Forest Regression\n",
        "rf_model = RandomForestRegressor()\n",
        "\n",
        "# Daftar hiperparameter yang ingin ditelusuri\n",
        "param_grid = {\n",
        "    'n_estimators': [100, 200],\n",
        "    'max_depth': [10, 20],\n",
        "    'min_samples_split': [2, 5],\n",
        "    'min_samples_leaf': [1, 2, 4],\n",
        "}\n",
        "\n",
        "# Membuat objek GridSearchCV\n",
        "rf_grid_search = GridSearchCV(estimator=rf_model, param_grid=param_grid, cv=5, scoring='neg_mean_squared_error', verbose=1, n_jobs=-1)\n",
        "\n",
        "# Melatih model menggunakan data train\n",
        "rf_grid_search.fit(X_train, y_train)\n",
        "\n",
        "# Menampilkan parameter terbaik yang ditemukan oleh GridSearchCV\n",
        "print(\"Best parameters found by GridSearchCV:\")\n",
        "print(rf_grid_search.best_params_)\n",
        "\n",
        "# Membuat model Random Forest Regression dengan parameter terbaik\n",
        "best_rf_model = rf_grid_search.best_estimator_\n",
        "\n",
        "# Melakukan prediksi pada data train dan data test menggunakan model terbaik\n",
        "y_train_pred = best_rf_model.predict(X_train)\n",
        "y_test_pred = best_rf_model.predict(X_test)\n",
        "\n",
        "# Menghitung dan mencetak skor MSE untuk data train dan data test\n",
        "print('Metrics for the best Random Forest Regression model:')\n",
        "print('MSE - Train: %.3f, Test: %.3f' % (mean_squared_error(y_train, y_train_pred), mean_squared_error(y_test, y_test_pred)))\n"
      ],
      "metadata": {
        "colab": {
          "base_uri": "https://localhost:8080/"
        },
        "id": "WyEXCDt_2CFm",
        "outputId": "de0d36fa-8545-4329-cac7-14f3dc9821b9"
      },
      "execution_count": null,
      "outputs": [
        {
          "output_type": "stream",
          "name": "stdout",
          "text": [
            "Fitting 5 folds for each of 24 candidates, totalling 120 fits\n",
            "Best parameters found by GridSearchCV:\n",
            "{'max_depth': 20, 'min_samples_leaf': 1, 'min_samples_split': 5, 'n_estimators': 200}\n",
            "Metrics for the best Random Forest Regression model:\n",
            "MSE - Train: 0.027, Test: 0.123\n"
          ]
        }
      ]
    },
    {
      "cell_type": "markdown",
      "source": [
        "#### **XGBoost**"
      ],
      "metadata": {
        "id": "jWyRjPMkumK4"
      }
    },
    {
      "cell_type": "code",
      "source": [
        "from xgboost import XGBRegressor\n",
        "from sklearn.model_selection import GridSearchCV\n",
        "from sklearn.metrics import mean_squared_error\n",
        "\n",
        "# Inisialisasi model XGBoost Regression\n",
        "xgb_model = XGBRegressor()\n",
        "\n",
        "# Daftar hiperparameter yang ingin ditelusuri\n",
        "param_grid = {\n",
        "    'n_estimators': [100, 200],\n",
        "    'max_depth': [3, 5],\n",
        "    'learning_rate': [0.1, 0.01],\n",
        "}\n",
        "\n",
        "# Membuat objek GridSearchCV\n",
        "xgb_grid_search = GridSearchCV(estimator=xgb_model, param_grid=param_grid, cv=5, scoring='neg_mean_squared_error', verbose=1, n_jobs=-1)\n",
        "\n",
        "# Melatih model menggunakan data train\n",
        "xgb_grid_search.fit(X_train, y_train)\n",
        "\n",
        "# Menampilkan parameter terbaik yang ditemukan oleh GridSearchCV\n",
        "print(\"Best parameters found by GridSearchCV:\")\n",
        "print(xgb_grid_search.best_params_)\n",
        "\n",
        "# Membuat model XGBoost Regression dengan parameter terbaik\n",
        "best_xgb_model = xgb_grid_search.best_estimator_\n",
        "\n",
        "# Melakukan prediksi pada data train dan data test menggunakan model terbaik\n",
        "y_train_pred = best_xgb_model.predict(X_train)\n",
        "y_test_pred = best_xgb_model.predict(X_test)\n",
        "\n",
        "# Menghitung dan mencetak skor MSE untuk data train dan data test\n",
        "print('Metrics for the best XGBoost Regression model:')\n",
        "print('MSE - Train: %.3f, Test: %.3f' % (mean_squared_error(y_train, y_train_pred), mean_squared_error(y_test, y_test_pred)))\n"
      ],
      "metadata": {
        "colab": {
          "base_uri": "https://localhost:8080/"
        },
        "id": "PkEqIJPiu-t5",
        "outputId": "17145ead-798f-4cf6-8a77-7ba6de8c1360"
      },
      "execution_count": null,
      "outputs": [
        {
          "output_type": "stream",
          "name": "stdout",
          "text": [
            "Fitting 5 folds for each of 8 candidates, totalling 40 fits\n",
            "Best parameters found by GridSearchCV:\n",
            "{'learning_rate': 0.1, 'max_depth': 5, 'n_estimators': 100}\n",
            "Metrics for the best XGBoost Regression model:\n",
            "MSE - Train: 0.061, Test: 0.118\n"
          ]
        }
      ]
    },
    {
      "cell_type": "markdown",
      "source": [
        "Berikut ini adalah hasil error dari masing-masing model:\n",
        "\n",
        "Linear Regression (LR):\n",
        "* Error pada data train: 18,3%\n",
        "* Error pada data test: 18,8%\n",
        "\n",
        "K-Nearest Neighbors (KNN) memiliki berikut hasil error:\n",
        "* Error pada data train: 13,3%\n",
        "* Error pada data test: 16,2%\n",
        "\n",
        "Decision Tree (DT) memiliki berikut hasil error:\n",
        "* Error pada data train: 12,6%\n",
        "*Error pada data test: 14,8%\n",
        "\n",
        "Random Forest (RF) memiliki berikut hasil error:\n",
        "* Error pada data train: 2,7%\n",
        "* Error pada data test: 12,3%\n",
        "\n",
        "XGBoost memiliki berikut hasil error:\n",
        "* Error pada data train: 6,1%\n",
        "* Error pada data test: 11,8%\n",
        "\n",
        "Dari hasil tersebut terlihat bahwa model Decission Tree memiliki performa yang paling bagus dalam melakukan regresi unutk memprediksi pembeli asuransi mobil daripada keempat model lainnya."
      ],
      "metadata": {
        "id": "uVE_w03s9AfF"
      }
    }
  ]
}